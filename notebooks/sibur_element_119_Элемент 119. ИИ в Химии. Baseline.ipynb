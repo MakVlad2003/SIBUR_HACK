{
 "cells": [
  {
   "cell_type": "markdown",
   "id": "directed-accreditation",
   "metadata": {},
   "source": [
    "# Создание QSAR модели для предсказания коэффициента липофильности LogP"
   ]
  },
  {
   "cell_type": "code",
   "execution_count": null,
   "id": "7ca88a65",
   "metadata": {},
   "outputs": [
    {
     "name": "stdout",
     "output_type": "stream",
     "text": [
      "Collecting numpy\n",
      "  Using cached numpy-2.2.4-cp310-cp310-macosx_14_0_arm64.whl.metadata (62 kB)\n",
      "Collecting pandas\n",
      "  Using cached pandas-2.2.3-cp310-cp310-macosx_11_0_arm64.whl.metadata (89 kB)\n",
      "Collecting scikit-learn\n",
      "  Using cached scikit_learn-1.6.1-cp310-cp310-macosx_12_0_arm64.whl.metadata (31 kB)\n",
      "Collecting chython\n",
      "  Using cached chython-2.3-cp310-cp310-macosx_14_0_arm64.whl.metadata (3.5 kB)\n",
      "Requirement already satisfied: ipykernel in /Users/artikovartur/Library/Python/3.10/lib/python/site-packages (6.29.5)\n",
      "Collecting openbabel-wheel\n",
      "  Downloading openbabel_wheel-3.1.1.21-cp310-cp310-macosx_13_0_arm64.whl.metadata (20 kB)\n",
      "Collecting pytorch-lightning\n",
      "  Using cached pytorch_lightning-2.5.1-py3-none-any.whl.metadata (20 kB)\n",
      "Collecting rdkit\n",
      "  Using cached rdkit-2024.9.6-cp310-cp310-macosx_11_0_arm64.whl.metadata (4.0 kB)\n",
      "Collecting torch\n",
      "  Using cached torch-2.6.0-cp310-none-macosx_11_0_arm64.whl.metadata (28 kB)\n",
      "Requirement already satisfied: python-dateutil>=2.8.2 in /Users/artikovartur/Library/Python/3.10/lib/python/site-packages (from pandas) (2.9.0.post0)\n",
      "Collecting pytz>=2020.1 (from pandas)\n",
      "  Using cached pytz-2025.2-py2.py3-none-any.whl.metadata (22 kB)\n",
      "Collecting tzdata>=2022.7 (from pandas)\n",
      "  Using cached tzdata-2025.2-py2.py3-none-any.whl.metadata (1.4 kB)\n",
      "Collecting scipy>=1.6.0 (from scikit-learn)\n",
      "  Using cached scipy-1.15.2-cp310-cp310-macosx_14_0_arm64.whl.metadata (61 kB)\n",
      "Collecting joblib>=1.2.0 (from scikit-learn)\n",
      "  Using cached joblib-1.4.2-py3-none-any.whl.metadata (5.4 kB)\n",
      "Collecting threadpoolctl>=3.1.0 (from scikit-learn)\n",
      "  Using cached threadpoolctl-3.6.0-py3-none-any.whl.metadata (13 kB)\n",
      "Collecting cachedmethods>=0.1.4 (from chython)\n",
      "  Using cached CachedMethods-0.1.4-py3-none-any.whl.metadata (754 bytes)\n",
      "Collecting lazy-object-proxy>=1.6 (from chython)\n",
      "  Using cached lazy_object_proxy-1.10.0-cp310-cp310-macosx_10_9_universal2.whl\n",
      "Collecting lxml>=4.1 (from chython)\n",
      "  Using cached lxml-5.3.1-cp310-cp310-macosx_10_9_universal2.whl.metadata (3.7 kB)\n",
      "Collecting py-mini-racer>=0.6.0 (from chython)\n",
      "  Using cached py_mini_racer-0.6.0-py3-none-any.whl\n",
      "Requirement already satisfied: appnope in /Users/artikovartur/Library/Python/3.10/lib/python/site-packages (from ipykernel) (0.1.4)\n",
      "Requirement already satisfied: comm>=0.1.1 in /Users/artikovartur/Library/Python/3.10/lib/python/site-packages (from ipykernel) (0.2.2)\n",
      "Requirement already satisfied: debugpy>=1.6.5 in /Users/artikovartur/Library/Python/3.10/lib/python/site-packages (from ipykernel) (1.8.13)\n",
      "Requirement already satisfied: ipython>=7.23.1 in /Users/artikovartur/Library/Python/3.10/lib/python/site-packages (from ipykernel) (8.34.0)\n",
      "Requirement already satisfied: jupyter-client>=6.1.12 in /Users/artikovartur/Library/Python/3.10/lib/python/site-packages (from ipykernel) (8.6.3)\n",
      "Requirement already satisfied: jupyter-core!=5.0.*,>=4.12 in /Users/artikovartur/Library/Python/3.10/lib/python/site-packages (from ipykernel) (5.7.2)\n",
      "Requirement already satisfied: matplotlib-inline>=0.1 in /Users/artikovartur/Library/Python/3.10/lib/python/site-packages (from ipykernel) (0.1.7)\n",
      "Requirement already satisfied: nest-asyncio in /Users/artikovartur/Library/Python/3.10/lib/python/site-packages (from ipykernel) (1.6.0)\n",
      "Requirement already satisfied: packaging in /Users/artikovartur/Library/Python/3.10/lib/python/site-packages (from ipykernel) (24.2)\n",
      "Requirement already satisfied: psutil in /Users/artikovartur/Library/Python/3.10/lib/python/site-packages (from ipykernel) (7.0.0)\n",
      "Requirement already satisfied: pyzmq>=24 in /Users/artikovartur/Library/Python/3.10/lib/python/site-packages (from ipykernel) (26.3.0)\n",
      "Requirement already satisfied: tornado>=6.1 in /Users/artikovartur/Library/Python/3.10/lib/python/site-packages (from ipykernel) (6.4.2)\n",
      "Requirement already satisfied: traitlets>=5.4.0 in /Users/artikovartur/Library/Python/3.10/lib/python/site-packages (from ipykernel) (5.14.3)\n",
      "Collecting tqdm>=4.57.0 (from pytorch-lightning)\n",
      "  Using cached tqdm-4.67.1-py3-none-any.whl.metadata (57 kB)\n",
      "Collecting PyYAML>=5.4 (from pytorch-lightning)\n",
      "  Using cached PyYAML-6.0.2-cp310-cp310-macosx_11_0_arm64.whl.metadata (2.1 kB)\n",
      "Collecting fsspec>=2022.5.0 (from fsspec[http]>=2022.5.0->pytorch-lightning)\n",
      "  Using cached fsspec-2025.3.2-py3-none-any.whl.metadata (11 kB)\n",
      "Collecting torchmetrics>=0.7.0 (from pytorch-lightning)\n",
      "  Using cached torchmetrics-1.7.0-py3-none-any.whl.metadata (21 kB)\n",
      "Requirement already satisfied: typing-extensions>=4.4.0 in /Users/artikovartur/Library/Python/3.10/lib/python/site-packages (from pytorch-lightning) (4.13.0)\n",
      "Collecting lightning-utilities>=0.10.0 (from pytorch-lightning)\n",
      "  Using cached lightning_utilities-0.14.2-py3-none-any.whl.metadata (5.6 kB)\n",
      "Collecting Pillow (from rdkit)\n",
      "  Using cached pillow-11.1.0-cp310-cp310-macosx_11_0_arm64.whl.metadata (9.1 kB)\n",
      "Collecting filelock (from torch)\n",
      "  Using cached filelock-3.18.0-py3-none-any.whl.metadata (2.9 kB)\n",
      "Collecting networkx (from torch)\n",
      "  Using cached networkx-3.4.2-py3-none-any.whl.metadata (6.3 kB)\n",
      "Collecting jinja2 (from torch)\n",
      "  Using cached jinja2-3.1.6-py3-none-any.whl.metadata (2.9 kB)\n",
      "Collecting sympy==1.13.1 (from torch)\n",
      "  Using cached sympy-1.13.1-py3-none-any.whl.metadata (12 kB)\n",
      "Collecting mpmath<1.4,>=1.1.0 (from sympy==1.13.1->torch)\n",
      "  Using cached mpmath-1.3.0-py3-none-any.whl.metadata (8.6 kB)\n",
      "Collecting aiohttp!=4.0.0a0,!=4.0.0a1 (from fsspec[http]>=2022.5.0->pytorch-lightning)\n",
      "  Using cached aiohttp-3.11.16-cp310-cp310-macosx_11_0_arm64.whl.metadata (7.7 kB)\n",
      "Requirement already satisfied: decorator in /Users/artikovartur/Library/Python/3.10/lib/python/site-packages (from ipython>=7.23.1->ipykernel) (5.2.1)\n",
      "Requirement already satisfied: exceptiongroup in /Users/artikovartur/Library/Python/3.10/lib/python/site-packages (from ipython>=7.23.1->ipykernel) (1.2.2)\n",
      "Requirement already satisfied: jedi>=0.16 in /Users/artikovartur/Library/Python/3.10/lib/python/site-packages (from ipython>=7.23.1->ipykernel) (0.19.2)\n",
      "Requirement already satisfied: pexpect>4.3 in /Users/artikovartur/Library/Python/3.10/lib/python/site-packages (from ipython>=7.23.1->ipykernel) (4.9.0)\n",
      "Requirement already satisfied: prompt_toolkit<3.1.0,>=3.0.41 in /Users/artikovartur/Library/Python/3.10/lib/python/site-packages (from ipython>=7.23.1->ipykernel) (3.0.50)\n",
      "Requirement already satisfied: pygments>=2.4.0 in /Users/artikovartur/Library/Python/3.10/lib/python/site-packages (from ipython>=7.23.1->ipykernel) (2.19.1)\n",
      "Requirement already satisfied: stack_data in /Users/artikovartur/Library/Python/3.10/lib/python/site-packages (from ipython>=7.23.1->ipykernel) (0.6.3)\n",
      "Requirement already satisfied: platformdirs>=2.5 in /Users/artikovartur/Library/Python/3.10/lib/python/site-packages (from jupyter-core!=5.0.*,>=4.12->ipykernel) (4.3.7)\n",
      "Requirement already satisfied: setuptools in /Library/Frameworks/Python.framework/Versions/3.10/lib/python3.10/site-packages (from lightning-utilities>=0.10.0->pytorch-lightning) (65.5.0)\n",
      "Requirement already satisfied: six>=1.5 in /Users/artikovartur/Library/Python/3.10/lib/python/site-packages (from python-dateutil>=2.8.2->pandas) (1.17.0)\n",
      "Collecting MarkupSafe>=2.0 (from jinja2->torch)\n",
      "  Using cached MarkupSafe-3.0.2-cp310-cp310-macosx_11_0_arm64.whl.metadata (4.0 kB)\n",
      "Collecting aiohappyeyeballs>=2.3.0 (from aiohttp!=4.0.0a0,!=4.0.0a1->fsspec[http]>=2022.5.0->pytorch-lightning)\n",
      "  Using cached aiohappyeyeballs-2.6.1-py3-none-any.whl.metadata (5.9 kB)\n",
      "Collecting aiosignal>=1.1.2 (from aiohttp!=4.0.0a0,!=4.0.0a1->fsspec[http]>=2022.5.0->pytorch-lightning)\n",
      "  Using cached aiosignal-1.3.2-py2.py3-none-any.whl.metadata (3.8 kB)\n",
      "Collecting async-timeout<6.0,>=4.0 (from aiohttp!=4.0.0a0,!=4.0.0a1->fsspec[http]>=2022.5.0->pytorch-lightning)\n",
      "  Using cached async_timeout-5.0.1-py3-none-any.whl.metadata (5.1 kB)\n",
      "Collecting attrs>=17.3.0 (from aiohttp!=4.0.0a0,!=4.0.0a1->fsspec[http]>=2022.5.0->pytorch-lightning)\n",
      "  Using cached attrs-25.3.0-py3-none-any.whl.metadata (10 kB)\n",
      "Collecting frozenlist>=1.1.1 (from aiohttp!=4.0.0a0,!=4.0.0a1->fsspec[http]>=2022.5.0->pytorch-lightning)\n",
      "  Using cached frozenlist-1.5.0-cp310-cp310-macosx_11_0_arm64.whl.metadata (13 kB)\n",
      "Collecting multidict<7.0,>=4.5 (from aiohttp!=4.0.0a0,!=4.0.0a1->fsspec[http]>=2022.5.0->pytorch-lightning)\n",
      "  Using cached multidict-6.2.0-cp310-cp310-macosx_11_0_arm64.whl.metadata (4.9 kB)\n",
      "Collecting propcache>=0.2.0 (from aiohttp!=4.0.0a0,!=4.0.0a1->fsspec[http]>=2022.5.0->pytorch-lightning)\n",
      "  Using cached propcache-0.3.1-cp310-cp310-macosx_11_0_arm64.whl.metadata (10 kB)\n",
      "Collecting yarl<2.0,>=1.17.0 (from aiohttp!=4.0.0a0,!=4.0.0a1->fsspec[http]>=2022.5.0->pytorch-lightning)\n",
      "  Using cached yarl-1.18.3-cp310-cp310-macosx_11_0_arm64.whl.metadata (69 kB)\n",
      "Requirement already satisfied: parso<0.9.0,>=0.8.4 in /Users/artikovartur/Library/Python/3.10/lib/python/site-packages (from jedi>=0.16->ipython>=7.23.1->ipykernel) (0.8.4)\n",
      "Requirement already satisfied: ptyprocess>=0.5 in /Users/artikovartur/Library/Python/3.10/lib/python/site-packages (from pexpect>4.3->ipython>=7.23.1->ipykernel) (0.7.0)\n",
      "Requirement already satisfied: wcwidth in /Users/artikovartur/Library/Python/3.10/lib/python/site-packages (from prompt_toolkit<3.1.0,>=3.0.41->ipython>=7.23.1->ipykernel) (0.2.13)\n",
      "Requirement already satisfied: executing>=1.2.0 in /Users/artikovartur/Library/Python/3.10/lib/python/site-packages (from stack_data->ipython>=7.23.1->ipykernel) (2.2.0)\n",
      "Requirement already satisfied: asttokens>=2.1.0 in /Users/artikovartur/Library/Python/3.10/lib/python/site-packages (from stack_data->ipython>=7.23.1->ipykernel) (3.0.0)\n",
      "Requirement already satisfied: pure-eval in /Users/artikovartur/Library/Python/3.10/lib/python/site-packages (from stack_data->ipython>=7.23.1->ipykernel) (0.2.3)\n",
      "Collecting idna>=2.0 (from yarl<2.0,>=1.17.0->aiohttp!=4.0.0a0,!=4.0.0a1->fsspec[http]>=2022.5.0->pytorch-lightning)\n",
      "  Using cached idna-3.10-py3-none-any.whl.metadata (10 kB)\n",
      "Using cached numpy-2.2.4-cp310-cp310-macosx_14_0_arm64.whl (5.4 MB)\n",
      "Using cached pandas-2.2.3-cp310-cp310-macosx_11_0_arm64.whl (11.3 MB)\n",
      "Using cached scikit_learn-1.6.1-cp310-cp310-macosx_12_0_arm64.whl (11.1 MB)\n",
      "Using cached chython-2.3-cp310-cp310-macosx_14_0_arm64.whl (893 kB)\n",
      "Downloading openbabel_wheel-3.1.1.21-cp310-cp310-macosx_13_0_arm64.whl (11.5 MB)\n",
      "\u001b[2K   \u001b[90m━━━━━━━━━━━━━━━━━━━━━━━━━━━━━━━━━━━━━━━━\u001b[0m \u001b[32m11.5/11.5 MB\u001b[0m \u001b[31m10.8 MB/s\u001b[0m eta \u001b[36m0:00:00\u001b[0m\u001b[36m0:00:01\u001b[0m\n",
      "\u001b[?25hUsing cached pytorch_lightning-2.5.1-py3-none-any.whl (822 kB)\n",
      "Using cached rdkit-2024.9.6-cp310-cp310-macosx_11_0_arm64.whl (27.7 MB)\n",
      "Using cached torch-2.6.0-cp310-none-macosx_11_0_arm64.whl (66.5 MB)\n",
      "Using cached sympy-1.13.1-py3-none-any.whl (6.2 MB)\n",
      "Using cached CachedMethods-0.1.4-py3-none-any.whl (4.0 kB)\n",
      "Using cached fsspec-2025.3.2-py3-none-any.whl (194 kB)\n",
      "Using cached joblib-1.4.2-py3-none-any.whl (301 kB)\n",
      "Using cached lightning_utilities-0.14.2-py3-none-any.whl (28 kB)\n",
      "Using cached lxml-5.3.1-cp310-cp310-macosx_10_9_universal2.whl (8.1 MB)\n",
      "Using cached pytz-2025.2-py2.py3-none-any.whl (509 kB)\n",
      "Using cached PyYAML-6.0.2-cp310-cp310-macosx_11_0_arm64.whl (171 kB)\n",
      "Using cached scipy-1.15.2-cp310-cp310-macosx_14_0_arm64.whl (22.4 MB)\n",
      "Using cached threadpoolctl-3.6.0-py3-none-any.whl (18 kB)\n",
      "Using cached torchmetrics-1.7.0-py3-none-any.whl (960 kB)\n",
      "Using cached tqdm-4.67.1-py3-none-any.whl (78 kB)\n",
      "Using cached tzdata-2025.2-py2.py3-none-any.whl (347 kB)\n",
      "Using cached filelock-3.18.0-py3-none-any.whl (16 kB)\n",
      "Using cached jinja2-3.1.6-py3-none-any.whl (134 kB)\n",
      "Using cached networkx-3.4.2-py3-none-any.whl (1.7 MB)\n",
      "Using cached pillow-11.1.0-cp310-cp310-macosx_11_0_arm64.whl (3.1 MB)\n",
      "Using cached aiohttp-3.11.16-cp310-cp310-macosx_11_0_arm64.whl (455 kB)\n",
      "Using cached MarkupSafe-3.0.2-cp310-cp310-macosx_11_0_arm64.whl (12 kB)\n",
      "Using cached mpmath-1.3.0-py3-none-any.whl (536 kB)\n",
      "Using cached aiohappyeyeballs-2.6.1-py3-none-any.whl (15 kB)\n",
      "Using cached aiosignal-1.3.2-py2.py3-none-any.whl (7.6 kB)\n",
      "Using cached async_timeout-5.0.1-py3-none-any.whl (6.2 kB)\n",
      "Using cached attrs-25.3.0-py3-none-any.whl (63 kB)\n",
      "Using cached frozenlist-1.5.0-cp310-cp310-macosx_11_0_arm64.whl (52 kB)\n",
      "Using cached multidict-6.2.0-cp310-cp310-macosx_11_0_arm64.whl (30 kB)\n",
      "Using cached propcache-0.3.1-cp310-cp310-macosx_11_0_arm64.whl (45 kB)\n",
      "Using cached yarl-1.18.3-cp310-cp310-macosx_11_0_arm64.whl (92 kB)\n",
      "Using cached idna-3.10-py3-none-any.whl (70 kB)\n",
      "Installing collected packages: pytz, py-mini-racer, mpmath, tzdata, tqdm, threadpoolctl, sympy, PyYAML, propcache, Pillow, openbabel-wheel, numpy, networkx, multidict, MarkupSafe, lxml, lightning-utilities, lazy-object-proxy, joblib, idna, fsspec, frozenlist, filelock, cachedmethods, attrs, async-timeout, aiohappyeyeballs, yarl, scipy, rdkit, pandas, jinja2, chython, aiosignal, torch, scikit-learn, aiohttp, torchmetrics, pytorch-lightning\n"
     ]
    }
   ],
   "source": [
    "!pip install numpy pandas scikit-learn chython ipykernel openbabel-wheel pytorch-lightning rdkit torch"
   ]
  },
  {
   "cell_type": "code",
   "execution_count": 8,
   "id": "treated-fellow",
   "metadata": {},
   "outputs": [
    {
     "ename": "ModuleNotFoundError",
     "evalue": "No module named 'sklearn'",
     "output_type": "error",
     "traceback": [
      "\u001b[0;31m---------------------------------------------------------------------------\u001b[0m",
      "\u001b[0;31mModuleNotFoundError\u001b[0m                       Traceback (most recent call last)",
      "Cell \u001b[0;32mIn[8], line 1\u001b[0m\n\u001b[0;32m----> 1\u001b[0m \u001b[38;5;28;01mfrom\u001b[39;00m\u001b[38;5;250m \u001b[39m\u001b[38;5;21;01msklearn\u001b[39;00m\u001b[38;5;21;01m.\u001b[39;00m\u001b[38;5;21;01mpreprocessing\u001b[39;00m\u001b[38;5;250m \u001b[39m\u001b[38;5;28;01mimport\u001b[39;00m FunctionTransformer, StandardScaler\n\u001b[1;32m      2\u001b[0m \u001b[38;5;28;01mfrom\u001b[39;00m\u001b[38;5;250m \u001b[39m\u001b[38;5;21;01msklearn\u001b[39;00m\u001b[38;5;21;01m.\u001b[39;00m\u001b[38;5;21;01mmetrics\u001b[39;00m\u001b[38;5;250m \u001b[39m\u001b[38;5;28;01mimport\u001b[39;00m r2_score, mean_squared_error\n\u001b[1;32m      4\u001b[0m \u001b[38;5;28;01mfrom\u001b[39;00m\u001b[38;5;250m \u001b[39m\u001b[38;5;21;01mrdkit\u001b[39;00m\u001b[38;5;21;01m.\u001b[39;00m\u001b[38;5;21;01mChem\u001b[39;00m\u001b[38;5;250m \u001b[39m\u001b[38;5;28;01mimport\u001b[39;00m Descriptors, MolFromSmiles, rdFingerprintGenerator \u001b[38;5;28;01mas\u001b[39;00m fp\n",
      "\u001b[0;31mModuleNotFoundError\u001b[0m: No module named 'sklearn'"
     ]
    }
   ],
   "source": [
    "from sklearn.preprocessing import FunctionTransformer, StandardScaler\n",
    "from sklearn.metrics import r2_score, mean_squared_error\n",
    "\n",
    "from rdkit.Chem import Descriptors, MolFromSmiles, rdFingerprintGenerator as fp\n",
    "\n",
    "from chython import smiles\n",
    "from collections import defaultdict\n",
    "\n",
    "import pandas as pd\n",
    "import numpy as np\n",
    "\n",
    "import torch\n",
    "import torch.nn as nn\n",
    "import pytorch_lightning as pyl\n",
    "\n",
    "from torch.utils.data import Dataset, DataLoader, TensorDataset\n",
    "\n",
    "import warnings\n",
    "warnings.filterwarnings(\"ignore\")\n"
   ]
  },
  {
   "cell_type": "markdown",
   "id": "freelance-category",
   "metadata": {},
   "source": [
    "## 1. Разведочный анализ и подготовка данных"
   ]
  },
  {
   "cell_type": "code",
   "execution_count": null,
   "id": "6360c06f",
   "metadata": {},
   "outputs": [],
   "source": [
    "train_data = pd.read_csv('train_data.csv')\n",
    "test_data = pd.read_csv('test_data.csv')"
   ]
  },
  {
   "cell_type": "markdown",
   "id": "5def0a88",
   "metadata": {},
   "source": [
    "Создадим валидационную выборку (отберем случайным образом из обучающей): "
   ]
  },
  {
   "cell_type": "code",
   "execution_count": 3,
   "id": "cb3a15a6",
   "metadata": {},
   "outputs": [
    {
     "name": "stdout",
     "output_type": "stream",
     "text": [
      "Исходный DataFrame: 10580 строк\n",
      "Удалено строк: 1318\n",
      "Осталось строк: 9262\n",
      "        ID                                         SMILES   LogP\n",
      "6911  6911  CN(C)CCN1C=2C(N(C=3C(=CC=CC=3)C1=O)C)=CC=CC=2  3.851\n",
      "2708  2708  ClC=1C(Cl)=CC(OC=2C=C(C(=CC=2Cl)Cl)Cl)=CC=1Cl  8.428\n",
      "6809  6809            COP(OC)(SC(C(OCC)=O)C=1C=CC=CC=1)=S  5.109\n",
      "5711  5711                    N1(C2=CC=CC=C2N=N1)CCC(=O)N  1.436\n",
      "5912  5912                O=S(=O)(C=1C=CC(CC(O)=O)=CC=1)F  3.250\n"
     ]
    }
   ],
   "source": [
    "n = 1318\n",
    "random_indices = np.random.choice(train_data.index, size=n, replace=False)\n",
    "\n",
    "val_data = train_data.loc[random_indices]\n",
    "train_data_remain = train_data.drop(random_indices)\n",
    "\n",
    "print(f\"Исходный DataFrame: {len(train_data)} строк\")\n",
    "print(f\"Удалено строк: {len(val_data)}\")\n",
    "print(f\"Осталось строк: {len(train_data_remain)}\")\n",
    "train_data = train_data_remain\n",
    "print(val_data.head())\n"
   ]
  },
  {
   "cell_type": "code",
   "execution_count": 4,
   "id": "71638e18",
   "metadata": {},
   "outputs": [],
   "source": [
    "test_smiles_list = test_data['SMILES'].tolist()\n",
    "train_smiles_list = train_data['SMILES'].tolist()\n",
    "val_smiles_list = val_data['SMILES'].tolist()"
   ]
  },
  {
   "cell_type": "code",
   "execution_count": 5,
   "id": "39d5fa42",
   "metadata": {},
   "outputs": [],
   "source": [
    "train_mols = [smiles(m) for m in train_smiles_list]\n",
    "test_mols = [smiles(m) for m in test_smiles_list]\n",
    "val_mols = [smiles(m) for m in val_smiles_list]"
   ]
  },
  {
   "cell_type": "code",
   "execution_count": 6,
   "id": "392c697f",
   "metadata": {},
   "outputs": [
    {
     "data": {
      "text/plain": [
       "9262"
      ]
     },
     "execution_count": 6,
     "metadata": {},
     "output_type": "execute_result"
    }
   ],
   "source": [
    "len(train_mols)"
   ]
  },
  {
   "cell_type": "markdown",
   "id": "898116a5",
   "metadata": {},
   "source": [
    "#### Проведем стандартизацию химических структур:\n"
   ]
  },
  {
   "cell_type": "code",
   "execution_count": 7,
   "id": "a5c41bbd",
   "metadata": {},
   "outputs": [],
   "source": [
    "def standardize(mol_list):\n",
    "    for m in mol_list:\n",
    "        try:\n",
    "            m.clean_stereo()\n",
    "            m.canonicalize()\n",
    "        except:\n",
    "            print(m)"
   ]
  },
  {
   "cell_type": "code",
   "execution_count": 8,
   "id": "4c2643e0",
   "metadata": {},
   "outputs": [],
   "source": [
    "standardize(train_mols)\n",
    "standardize(test_mols)\n",
    "standardize(val_mols)"
   ]
  },
  {
   "cell_type": "markdown",
   "id": "dfd3e051",
   "metadata": {},
   "source": [
    "#### Преобразуем молекулы в объекты библиотеки RDKit"
   ]
  },
  {
   "cell_type": "code",
   "execution_count": 9,
   "id": "92d04cb8",
   "metadata": {},
   "outputs": [
    {
     "data": {
      "image/png": "[encoded data removed]",
      "text/plain": [
       "<rdkit.Chem.rdchem.Mol at 0x3495edf50>"
      ]
     },
     "execution_count": 9,
     "metadata": {},
     "output_type": "execute_result"
    }
   ],
   "source": [
    "train_rdkit_mols = [MolFromSmiles(str(m)) for m in train_mols]\n",
    "test_rdkit_mols = [MolFromSmiles(str(m)) for m in test_mols]\n",
    "val_rdkit_mols = [MolFromSmiles(str(m)) for m in val_mols]\n",
    "val_rdkit_mols[0]"
   ]
  },
  {
   "cell_type": "markdown",
   "id": "fb650703",
   "metadata": {},
   "source": [
    "#### 1.1 Генерация дескрипторов"
   ]
  },
  {
   "cell_type": "code",
   "execution_count": 10,
   "id": "f54920b4",
   "metadata": {},
   "outputs": [],
   "source": [
    "def calc_fingerprints(mols):\n",
    "    \"\"\" генерация молекулярных отпечатков по методу Моргана с радиусом 3 и длиной 2048\n",
    "    \"\"\"\n",
    "    morgan_fpgenerator = fp.GetMorganGenerator(radius=3, fpSize=2048)\n",
    "    return pd.DataFrame([morgan_fpgenerator.GetFingerprintAsNumPy(m) for m in mols])\n",
    "\n",
    "PhisChemDescriptors = {\"MR\": Descriptors.MolMR,\n",
    "                       \"TPSA\": Descriptors.TPSA}\n",
    "\n",
    "# функция для генерации дескрипторов из молекул\n",
    "def mol_dsc_calc(mols): \n",
    "    return pd.DataFrame({k: f(m) for k, f in PhisChemDescriptors.items()} \n",
    "                     for m in mols)\n",
    "\n",
    "descriptors_names = PhisChemDescriptors.keys()"
   ]
  },
  {
   "cell_type": "markdown",
   "id": "92df8ed8",
   "metadata": {},
   "source": [
    "Сгенерируем дескрипторы и молекулярные отпечатки и сохраним их в отдельные датафреймы:"
   ]
  },
  {
   "cell_type": "code",
   "execution_count": 11,
   "id": "7953e8d4",
   "metadata": {},
   "outputs": [
    {
     "name": "stdout",
     "output_type": "stream",
     "text": [
      "train\n",
      "test\n",
      "val\n"
     ]
    }
   ],
   "source": [
    "descriptors_datasets = defaultdict(dict)\n",
    "\n",
    "descriptors_transformer = FunctionTransformer(mol_dsc_calc, validate=False)\n",
    "morgan_transformer = FunctionTransformer(calc_fingerprints, validate=False)\n",
    "\n",
    "train_rdkit_data = pd.DataFrame(train_rdkit_mols, columns=['molecules'])\n",
    "test_rdkit_data = pd.DataFrame(test_rdkit_mols, columns=['molecules'])\n",
    "val_rdkit_data = pd.DataFrame(val_rdkit_mols, columns=['molecules'])\n",
    "\n",
    "\n",
    "datasets = {'train': train_rdkit_mols, 'test': test_rdkit_mols, 'val': val_rdkit_mols}\n",
    "\n",
    "for dataset_name, data in datasets.items():\n",
    "    data_df = pd.DataFrame(data, columns=['structure'])\n",
    "    print(dataset_name)\n",
    "    X = morgan_transformer.transform(data_df.structure)\n",
    "\n",
    "    X_desc = descriptors_transformer.fit_transform(data_df.structure)\n",
    "    descriptors_datasets[dataset_name] = pd.concat([data_df.drop(columns=['structure']), X, X_desc], axis=1)\n"
   ]
  },
  {
   "cell_type": "code",
   "execution_count": 12,
   "id": "3efb85f8",
   "metadata": {},
   "outputs": [],
   "source": [
    "num_cols_to_drop = [x for x in descriptors_datasets['train'].columns.to_list() if not isinstance(x, int)]\n",
    "bool_cols_to_drop = [x for x in descriptors_datasets['train'].columns.to_list() if x not in ['TPSA', 'MR']]"
   ]
  },
  {
   "cell_type": "code",
   "execution_count": 13,
   "id": "9b49b5f0",
   "metadata": {},
   "outputs": [],
   "source": [
    "separated_features_df = {}\n",
    "for dataset_name, df in descriptors_datasets.items():\n",
    "    num_cols_to_drop = [x for x in descriptors_datasets[f'{dataset_name}'].columns.to_list() if not isinstance(x, int)]\n",
    "    bool_cols_to_drop = [x for x in descriptors_datasets[f'{dataset_name}'].columns.to_list() if x not in ['TPSA', 'MR']]\n",
    "    separated_features_df[f'Xd_{dataset_name}'] = df.drop(columns=bool_cols_to_drop)\n",
    "    separated_features_df[f'Xfp_{dataset_name}'] = df.drop(columns=num_cols_to_drop)"
   ]
  },
  {
   "cell_type": "code",
   "execution_count": 14,
   "id": "3cba0a8d",
   "metadata": {},
   "outputs": [
    {
     "data": {
      "text/plain": [
       "['Xd_train', 'Xfp_train', 'Xd_test', 'Xfp_test', 'Xd_val', 'Xfp_val']"
      ]
     },
     "execution_count": 14,
     "metadata": {},
     "output_type": "execute_result"
    }
   ],
   "source": [
    "list(separated_features_df.keys())"
   ]
  },
  {
   "cell_type": "code",
   "execution_count": 15,
   "id": "f65698b8",
   "metadata": {},
   "outputs": [],
   "source": [
    "Xd_train, Xd_test, Xd_val, Xfp_train, Xfp_test, Xfp_val = \\\n",
    "separated_features_df['Xd_train'], separated_features_df['Xd_test'], separated_features_df['Xd_val'], \\\n",
    "separated_features_df['Xfp_train'], separated_features_df['Xfp_test'], separated_features_df['Xfp_val']"
   ]
  },
  {
   "cell_type": "code",
   "execution_count": 16,
   "id": "b2b277a4",
   "metadata": {},
   "outputs": [
    {
     "data": {
      "application/vnd.microsoft.datawrangler.viewer.v0+json": {
       "columns": [
        {
         "name": "index",
         "rawType": "int64",
         "type": "integer"
        },
        {
         "name": "MR",
         "rawType": "float64",
         "type": "float"
        },
        {
         "name": "TPSA",
         "rawType": "float64",
         "type": "float"
        }
       ],
       "conversionMethod": "pd.DataFrame",
       "ref": "cafa2ab1-68d5-452f-8575-c45aef39df84",
       "rows": [
        [
         "0",
         "110.58710000000006",
         "90.54"
        ],
        [
         "1",
         "84.91300000000004",
         "148.57"
        ],
        [
         "2",
         "103.76480000000002",
         "85.08"
        ],
        [
         "3",
         "101.32640000000006",
         "158.82"
        ],
        [
         "4",
         "106.47430000000003",
         "110.42000000000002"
        ],
        [
         "5",
         "107.08190000000003",
         "109.57"
        ],
        [
         "6",
         "111.89520000000003",
         "58.53"
        ],
        [
         "7",
         "98.93790000000004",
         "120.02"
        ],
        [
         "8",
         "121.51250000000007",
         "66.4"
        ],
        [
         "9",
         "81.92180000000002",
         "97.74000000000001"
        ],
        [
         "10",
         "83.03200000000002",
         "0.0"
        ],
        [
         "11",
         "97.15100000000004",
         "64.96000000000001"
        ],
        [
         "12",
         "106.05360000000002",
         "168.87999999999997"
        ],
        [
         "13",
         "85.5643",
         "86.50999999999999"
        ],
        [
         "14",
         "96.44150000000005",
         "113.00999999999999"
        ],
        [
         "15",
         "118.083",
         "70.05000000000001"
        ],
        [
         "16",
         "104.47760000000005",
         "100.9"
        ],
        [
         "17",
         "109.77650000000001",
         "59.08"
        ],
        [
         "18",
         "118.67650000000008",
         "80.26"
        ],
        [
         "19",
         "86.07620000000004",
         "82.49000000000001"
        ],
        [
         "20",
         "97.23900000000002",
         "59.300000000000004"
        ],
        [
         "21",
         "113.67080000000003",
         "26.71"
        ],
        [
         "22",
         "118.60030000000006",
         "47.019999999999996"
        ],
        [
         "23",
         "109.58140000000002",
         "155.33999999999997"
        ],
        [
         "24",
         "102.86540000000005",
         "86.99000000000001"
        ],
        [
         "25",
         "115.76930000000009",
         "86.63000000000001"
        ],
        [
         "26",
         "88.69430000000004",
         "106.94"
        ],
        [
         "27",
         "112.51430000000008",
         "167.69"
        ],
        [
         "28",
         "92.88680000000002",
         "89.52"
        ],
        [
         "29",
         "105.84110000000004",
         "119.97"
        ],
        [
         "30",
         "113.13120000000006",
         "98.28000000000002"
        ],
        [
         "31",
         "110.82530000000007",
         "150.62"
        ],
        [
         "32",
         "115.57200000000006",
         "70.42000000000002"
        ],
        [
         "33",
         "111.94450000000005",
         "101.88000000000002"
        ],
        [
         "34",
         "110.27300000000007",
         "69.67"
        ],
        [
         "35",
         "99.99540000000005",
         "94.83"
        ],
        [
         "36",
         "94.42050000000005",
         "84.18000000000002"
        ],
        [
         "37",
         "106.41030000000002",
         "76.03999999999999"
        ],
        [
         "38",
         "93.82870000000004",
         "139.81"
        ],
        [
         "39",
         "92.94770000000004",
         "155.35"
        ],
        [
         "40",
         "104.02270000000003",
         "59.81"
        ],
        [
         "41",
         "102.14380000000006",
         "26.71"
        ],
        [
         "42",
         "86.0627",
         "49.410000000000004"
        ],
        [
         "43",
         "112.62800000000004",
         "52.60000000000001"
        ],
        [
         "44",
         "94.96430000000004",
         "63.68000000000001"
        ],
        [
         "45",
         "91.71520000000002",
         "83.17"
        ],
        [
         "46",
         "113.19720000000005",
         "146.17999999999998"
        ],
        [
         "47",
         "88.76000000000005",
         "66.12"
        ],
        [
         "48",
         "117.08770000000004",
         "73.94"
        ],
        [
         "49",
         "105.15960000000005",
         "76.25"
        ]
       ],
       "shape": {
        "columns": 2,
        "rows": 2630
       }
      },
      "text/html": [
       "<div>\n",
       "<style scoped>\n",
       "    .dataframe tbody tr th:only-of-type {\n",
       "        vertical-align: middle;\n",
       "    }\n",
       "\n",
       "    .dataframe tbody tr th {\n",
       "        vertical-align: top;\n",
       "    }\n",
       "\n",
       "    .dataframe thead th {\n",
       "        text-align: right;\n",
       "    }\n",
       "</style>\n",
       "<table border=\"1\" class=\"dataframe\">\n",
       "  <thead>\n",
       "    <tr style=\"text-align: right;\">\n",
       "      <th></th>\n",
       "      <th>MR</th>\n",
       "      <th>TPSA</th>\n",
       "    </tr>\n",
       "  </thead>\n",
       "  <tbody>\n",
       "    <tr>\n",
       "      <th>0</th>\n",
       "      <td>110.5871</td>\n",
       "      <td>90.54</td>\n",
       "    </tr>\n",
       "    <tr>\n",
       "      <th>1</th>\n",
       "      <td>84.9130</td>\n",
       "      <td>148.57</td>\n",
       "    </tr>\n",
       "    <tr>\n",
       "      <th>2</th>\n",
       "      <td>103.7648</td>\n",
       "      <td>85.08</td>\n",
       "    </tr>\n",
       "    <tr>\n",
       "      <th>3</th>\n",
       "      <td>101.3264</td>\n",
       "      <td>158.82</td>\n",
       "    </tr>\n",
       "    <tr>\n",
       "      <th>4</th>\n",
       "      <td>106.4743</td>\n",
       "      <td>110.42</td>\n",
       "    </tr>\n",
       "    <tr>\n",
       "      <th>...</th>\n",
       "      <td>...</td>\n",
       "      <td>...</td>\n",
       "    </tr>\n",
       "    <tr>\n",
       "      <th>2625</th>\n",
       "      <td>136.9621</td>\n",
       "      <td>170.85</td>\n",
       "    </tr>\n",
       "    <tr>\n",
       "      <th>2626</th>\n",
       "      <td>147.7249</td>\n",
       "      <td>127.87</td>\n",
       "    </tr>\n",
       "    <tr>\n",
       "      <th>2627</th>\n",
       "      <td>150.5970</td>\n",
       "      <td>101.53</td>\n",
       "    </tr>\n",
       "    <tr>\n",
       "      <th>2628</th>\n",
       "      <td>152.5858</td>\n",
       "      <td>91.37</td>\n",
       "    </tr>\n",
       "    <tr>\n",
       "      <th>2629</th>\n",
       "      <td>131.5645</td>\n",
       "      <td>176.36</td>\n",
       "    </tr>\n",
       "  </tbody>\n",
       "</table>\n",
       "<p>2630 rows × 2 columns</p>\n",
       "</div>"
      ],
      "text/plain": [
       "            MR    TPSA\n",
       "0     110.5871   90.54\n",
       "1      84.9130  148.57\n",
       "2     103.7648   85.08\n",
       "3     101.3264  158.82\n",
       "4     106.4743  110.42\n",
       "...        ...     ...\n",
       "2625  136.9621  170.85\n",
       "2626  147.7249  127.87\n",
       "2627  150.5970  101.53\n",
       "2628  152.5858   91.37\n",
       "2629  131.5645  176.36\n",
       "\n",
       "[2630 rows x 2 columns]"
      ]
     },
     "execution_count": 16,
     "metadata": {},
     "output_type": "execute_result"
    }
   ],
   "source": [
    "Xd_test"
   ]
  },
  {
   "cell_type": "markdown",
   "id": "engaging-disease",
   "metadata": {},
   "source": [
    "### 1.2 Нормализация численных значений\n",
    "\n",
    "**Формула стандартизации (Z-score Normalization)**:\n",
    "\n",
    "$$\n",
    "Y_{\\text{norm}} = \\frac{Y - \\mu}{\\sigma}\n",
    "$$\n",
    "\n",
    "\n",
    "Где:\n",
    "\n",
    "\n",
    "- $Y$ — исходные данные,\n",
    "- $\\mu$ — среднее значение \\( Y \\),\n",
    "- $\\sigma$ — стандартное отклонение \\( Y \\)."
   ]
  },
  {
   "cell_type": "code",
   "execution_count": 17,
   "id": "4ed8e615",
   "metadata": {},
   "outputs": [
    {
     "data": {
      "text/plain": [
       "array([[1.29921506, 1.81699789],\n",
       "       [1.35325521, 1.43840238],\n",
       "       [1.6401442 , 0.32418501],\n",
       "       ...,\n",
       "       [3.25135023, 0.58613677],\n",
       "       [3.15265381, 0.99339656],\n",
       "       [3.18880431, 2.32500836]])"
      ]
     },
     "execution_count": 17,
     "metadata": {},
     "output_type": "execute_result"
    }
   ],
   "source": [
    "df_to_scale =  [Xd_train, Xd_test, Xd_val]\n",
    "scaler = StandardScaler()\n",
    "scaler.fit(Xd_train)\n",
    "for n, df in enumerate(df_to_scale):\n",
    "    df = pd.DataFrame(scaler.transform(df), columns=df.columns)\n",
    "    df_to_scale[n] = np.array(df)\n",
    "\n",
    "Xd_train, Xd_test, Xd_val = df_to_scale\n",
    "Xd_train"
   ]
  },
  {
   "cell_type": "markdown",
   "id": "bc4193c7",
   "metadata": {},
   "source": [
    "Приведем датафреймы с отпечатками моргана в нужный формат:"
   ]
  },
  {
   "cell_type": "code",
   "execution_count": 18,
   "id": "18ea7d4c",
   "metadata": {},
   "outputs": [],
   "source": [
    "Xfp_train, Xfp_test, Xfp_val = np.array(Xfp_train), np.array(Xfp_test), np.array(Xfp_val)"
   ]
  },
  {
   "cell_type": "code",
   "execution_count": 22,
   "id": "hindu-cholesterol",
   "metadata": {},
   "outputs": [],
   "source": [
    "Y_train = np.array(train_data['LogP'])\n",
    "# Генерируем данные LogP для тестовой и валидационной выборке, поскольку эти данные требуется предсказать\n",
    "Y_test = np.array([0] * test_data.shape[0])\n",
    "Y_val = np.array([0] * val_data.shape[0])"
   ]
  },
  {
   "cell_type": "code",
   "execution_count": 24,
   "id": "9378baf9",
   "metadata": {},
   "outputs": [
    {
     "data": {
      "text/plain": [
       "((9262, 2), (2630, 2))"
      ]
     },
     "execution_count": 24,
     "metadata": {},
     "output_type": "execute_result"
    }
   ],
   "source": [
    "Xd_train.shape, Xd_test.shape"
   ]
  },
  {
   "cell_type": "code",
   "execution_count": 25,
   "id": "e1e68ebc",
   "metadata": {},
   "outputs": [
    {
     "data": {
      "text/plain": [
       "array([[0, 0, 0, ..., 0, 0, 0],\n",
       "       [0, 0, 0, ..., 0, 0, 0],\n",
       "       [0, 0, 0, ..., 0, 0, 0],\n",
       "       ...,\n",
       "       [0, 1, 0, ..., 0, 0, 0],\n",
       "       [0, 0, 0, ..., 0, 0, 0],\n",
       "       [0, 1, 0, ..., 0, 0, 0]], dtype=uint8)"
      ]
     },
     "execution_count": 25,
     "metadata": {},
     "output_type": "execute_result"
    }
   ],
   "source": [
    "Xfp_train"
   ]
  },
  {
   "cell_type": "markdown",
   "id": "c4dd34df",
   "metadata": {},
   "source": [
    "## 2. Обучение и валидация модели"
   ]
  },
  {
   "cell_type": "markdown",
   "id": "0fd4e040",
   "metadata": {},
   "source": [
    "#### Создание модели на основе нейронной сети в виде многослойного персептрона с одним скрытым слоем"
   ]
  },
  {
   "cell_type": "markdown",
   "id": "3e149846",
   "metadata": {},
   "source": [
    "Подготовим данные для обучения в нужном формате:"
   ]
  },
  {
   "cell_type": "code",
   "execution_count": 26,
   "id": "5f9bf03c",
   "metadata": {},
   "outputs": [],
   "source": [
    "Xfp_train = torch.Tensor(Xfp_train)\n",
    "Xfp_test = torch.Tensor(Xfp_test)\n",
    "Xfp_val = torch.Tensor(Xfp_val)\n",
    "Xd_train = torch.Tensor(Xd_train)\n",
    "Xd_test = torch.Tensor(Xd_test)\n",
    "Xd_val = torch.Tensor(Xd_val)"
   ]
  },
  {
   "cell_type": "code",
   "execution_count": 27,
   "id": "7ab5982b",
   "metadata": {},
   "outputs": [
    {
     "data": {
      "text/plain": [
       "(torch.Size([9262, 1]), torch.Size([2630, 1]))"
      ]
     },
     "execution_count": 27,
     "metadata": {},
     "output_type": "execute_result"
    }
   ],
   "source": [
    "Y_train = torch.Tensor(Y_train).unsqueeze(-1)\n",
    "Y_test = torch.Tensor(Y_test).unsqueeze(-1)\n",
    "Y_val = torch.Tensor(Y_val).unsqueeze(-1)\n",
    "\n",
    "Y_train.shape, Y_test.shape"
   ]
  },
  {
   "cell_type": "markdown",
   "id": "f4672d91",
   "metadata": {},
   "source": [
    "Определим конфигурацию:"
   ]
  },
  {
   "cell_type": "code",
   "execution_count": 28,
   "id": "ac0672d6",
   "metadata": {},
   "outputs": [],
   "source": [
    "BATCH_SIZE = 50\n",
    "EPOCHS = 50\n",
    "HIDDEN_SIZE = 256"
   ]
  },
  {
   "cell_type": "markdown",
   "id": "d37ba663",
   "metadata": {},
   "source": [
    "Создадим объект DataLoader - загрузчик данных, который делит входные данные на партии определенного размера - батчи  и подает их на обучение нейронной сети. Создадим загрузчики для каждой из выборок:"
   ]
  },
  {
   "cell_type": "code",
   "execution_count": 29,
   "id": "38bbf773",
   "metadata": {},
   "outputs": [],
   "source": [
    "class LogPDataset(Dataset):\n",
    "    def __init__(self, X, y, device):\n",
    "        self.X = torch.tensor(X, dtype=torch.float32).to(device)\n",
    "        self.y = torch.tensor(y, dtype=torch.float32).to(device)\n",
    "\n",
    "    def __len__(self):\n",
    "        return len(self.X)\n",
    "\n",
    "    def __getitem__(self, idx):\n",
    "        return self.X[idx], self.y[idx]\n",
    "\n",
    "device = torch.device(\"cuda\" if torch.cuda.is_available() else \"cpu\")\n",
    "\n",
    "train_dataset = TensorDataset(Xfp_train, Xd_train, Y_train)\n",
    "test_dataset = TensorDataset(Xfp_test, Xd_test, Y_test)\n",
    "val_dataset = TensorDataset(Xfp_val, Xd_val, Y_val)\n",
    "train_loader = DataLoader(train_dataset, batch_size=BATCH_SIZE, shuffle=True)\n",
    "test_loader = DataLoader(test_dataset)\n",
    "val_loader = DataLoader(val_dataset, batch_size=BATCH_SIZE, shuffle=False)"
   ]
  },
  {
   "cell_type": "markdown",
   "id": "61c76e26",
   "metadata": {},
   "source": [
    "Создадим класс LogPModel для определения архитектуры нейронной сети с одним скрытым слоем и двумя входными потоками для обработки отдельно физико-химических дескрипторов и молекулярных отпечатков:"
   ]
  },
  {
   "cell_type": "code",
   "execution_count": 30,
   "id": "1da58d13",
   "metadata": {},
   "outputs": [],
   "source": [
    "class LogPModel(pyl.LightningModule):\n",
    "    def __init__(self, fingerprint_size, numeric_features_size, hidden_size=HIDDEN_SIZE):\n",
    "        super(LogPModel, self).__init__()\n",
    "        self.test_predictions = []\n",
    "        self.targets = []\n",
    "\n",
    "        self.fingerprint_fc = nn.Sequential(\n",
    "            nn.Linear(fingerprint_size, hidden_size),\n",
    "            nn.LeakyReLU(),\n",
    "            nn.Linear(hidden_size, hidden_size),\n",
    "            nn.LeakyReLU()\n",
    "        )\n",
    "        self.numeric_fc = nn.Sequential(\n",
    "            nn.Linear(numeric_features_size, hidden_size),\n",
    "            nn.LeakyReLU(),\n",
    "            nn.Linear(hidden_size, hidden_size),\n",
    "            nn.LeakyReLU()\n",
    "        )\n",
    "        \n",
    "        self.combined_fc = nn.Sequential(\n",
    "            nn.Linear(hidden_size * 2, hidden_size),\n",
    "            nn.LeakyReLU(),\n",
    "            nn.Linear(hidden_size, 1)\n",
    "        )\n",
    "        \n",
    "        self.loss_fn = nn.MSELoss()\n",
    "\n",
    "    def forward(self, fingerprint, numeric_features):\n",
    "        fingerprint_out = self.fingerprint_fc(fingerprint)\n",
    "        numeric_out = self.numeric_fc(numeric_features)\n",
    "        \n",
    "        combined = torch.cat([fingerprint_out, numeric_out], dim=1)\n",
    "        \n",
    "        return self.combined_fc(combined)\n",
    "\n",
    "    def training_step(self, batch, batch_idx):\n",
    "        fingerprint, numeric_features, y = batch\n",
    "        y_pred = self(fingerprint, numeric_features)\n",
    "\n",
    "        loss = self.loss_fn(y_pred, y)\n",
    "        self.log('Train MSE', loss, on_step=False, on_epoch=True, prog_bar=True)\n",
    "\n",
    "        r2 = r2_score(y.detach().cpu().numpy().reshape(-1), y_pred.detach().cpu().numpy().reshape(-1))\n",
    "        self.log('Train R²', r2, on_step=False, on_epoch=True, prog_bar=True)\n",
    "\n",
    "        return loss\n",
    "\n",
    "    def validation_step(self, batch, batch_idx):\n",
    "        fingerprint, numeric_features, y = batch\n",
    "        y_pred = self(fingerprint, numeric_features)\n",
    "\n",
    "        loss = self.loss_fn(y_pred, y)\n",
    "        self.log('Validation MSE', loss, on_step=False, on_epoch=True, prog_bar=True)\n",
    "\n",
    "        r2 = r2_score(y.detach().cpu().numpy().reshape(-1), y_pred.detach().cpu().numpy().reshape(-1))\n",
    "        self.log('Validation R²', r2, on_step=False, on_epoch=True, prog_bar=True)\n",
    "\n",
    "        return loss\n",
    "    \n",
    "    def test_step(self, batch, batch_idx):\n",
    "        fingerprint, numeric_features, y = batch\n",
    "        y_pred = self(fingerprint, numeric_features)\n",
    "\n",
    "        loss = self.loss_fn(y_pred, y)\n",
    "        self.log('Test MSE', loss, on_step=False, on_epoch=True, prog_bar=True)\n",
    "\n",
    "        self.test_predictions.extend(y_pred.cpu().numpy())\n",
    "        self.targets.extend(y.cpu().numpy())\n",
    "        \n",
    "        return loss\n",
    "\n",
    "    def configure_optimizers(self):\n",
    "        return torch.optim.Adam(self.parameters(), lr=1e-3)"
   ]
  },
  {
   "cell_type": "markdown",
   "id": "ba5e8f04",
   "metadata": {},
   "source": [
    "Создадим и обучим модель:"
   ]
  },
  {
   "cell_type": "code",
   "execution_count": 31,
   "id": "c291409d",
   "metadata": {},
   "outputs": [
    {
     "name": "stderr",
     "output_type": "stream",
     "text": [
      "You are using the plain ModelCheckpoint callback. Consider using LitModelCheckpoint which with seamless uploading to Model registry.\n",
      "GPU available: True (mps), used: True\n",
      "TPU available: False, using: 0 TPU cores\n",
      "HPU available: False, using: 0 HPUs\n",
      "\n",
      "  | Name           | Type       | Params | Mode \n",
      "------------------------------------------------------\n",
      "0 | fingerprint_fc | Sequential | 590 K  | train\n",
      "1 | numeric_fc     | Sequential | 66.6 K | train\n",
      "2 | combined_fc    | Sequential | 131 K  | train\n",
      "3 | loss_fn        | MSELoss    | 0      | train\n",
      "------------------------------------------------------\n",
      "788 K     Trainable params\n",
      "0         Non-trainable params\n",
      "788 K     Total params\n",
      "3.154     Total estimated model params size (MB)\n",
      "15        Modules in train mode\n",
      "0         Modules in eval mode\n"
     ]
    },
    {
     "name": "stdout",
     "output_type": "stream",
     "text": [
      "Epoch 49: 100%|██████████| 186/186 [00:02<00:00, 74.74it/s, v_num=1, Validation MSE=15.50, Validation R²=0.000, Train MSE=0.0137, Train R²=0.996]"
     ]
    },
    {
     "name": "stderr",
     "output_type": "stream",
     "text": [
      "`Trainer.fit` stopped: `max_epochs=50` reached.\n"
     ]
    },
    {
     "name": "stdout",
     "output_type": "stream",
     "text": [
      "Epoch 49: 100%|██████████| 186/186 [00:02<00:00, 73.90it/s, v_num=1, Validation MSE=15.50, Validation R²=0.000, Train MSE=0.0137, Train R²=0.996]\n"
     ]
    }
   ],
   "source": [
    "model = LogPModel(fingerprint_size=Xfp_train.shape[1], numeric_features_size=Xd_train.shape[1]).to(device)\n",
    "\n",
    "# metrics_callback = MetricsCallback(val_loader, train_loader, device)\n",
    "\n",
    "trainer = pyl.Trainer(max_epochs=EPOCHS, accelerator=\"auto\")\n",
    "trainer.fit(model, train_loader, val_loader)"
   ]
  },
  {
   "cell_type": "markdown",
   "id": "867c4eda",
   "metadata": {},
   "source": [
    "Оценим модель на внешней контрольной выборке:"
   ]
  },
  {
   "cell_type": "code",
   "execution_count": 32,
   "id": "280ae584",
   "metadata": {},
   "outputs": [
    {
     "name": "stdout",
     "output_type": "stream",
     "text": [
      "Testing DataLoader 0: 100%|██████████| 2630/2630 [00:09<00:00, 265.50it/s]\n"
     ]
    },
    {
     "data": {
      "text/html": [
       "<pre style=\"white-space:pre;overflow-x:auto;line-height:normal;font-family:Menlo,'DejaVu Sans Mono',consolas,'Courier New',monospace\">┏━━━━━━━━━━━━━━━━━━━━━━━━━━━┳━━━━━━━━━━━━━━━━━━━━━━━━━━━┓\n",
       "┃<span style=\"font-weight: bold\">        Test metric        </span>┃<span style=\"font-weight: bold\">       DataLoader 0        </span>┃\n",
       "┡━━━━━━━━━━━━━━━━━━━━━━━━━━━╇━━━━━━━━━━━━━━━━━━━━━━━━━━━┩\n",
       "│<span style=\"color: #008080; text-decoration-color: #008080\">         Test MSE          </span>│<span style=\"color: #800080; text-decoration-color: #800080\">    15.227682113647461     </span>│\n",
       "└───────────────────────────┴───────────────────────────┘\n",
       "</pre>\n"
      ],
      "text/plain": [
       "┏━━━━━━━━━━━━━━━━━━━━━━━━━━━┳━━━━━━━━━━━━━━━━━━━━━━━━━━━┓\n",
       "┃\u001b[1m \u001b[0m\u001b[1m       Test metric       \u001b[0m\u001b[1m \u001b[0m┃\u001b[1m \u001b[0m\u001b[1m      DataLoader 0       \u001b[0m\u001b[1m \u001b[0m┃\n",
       "┡━━━━━━━━━━━━━━━━━━━━━━━━━━━╇━━━━━━━━━━━━━━━━━━━━━━━━━━━┩\n",
       "│\u001b[36m \u001b[0m\u001b[36m        Test MSE         \u001b[0m\u001b[36m \u001b[0m│\u001b[35m \u001b[0m\u001b[35m   15.227682113647461    \u001b[0m\u001b[35m \u001b[0m│\n",
       "└───────────────────────────┴───────────────────────────┘\n"
      ]
     },
     "metadata": {},
     "output_type": "display_data"
    },
    {
     "name": "stdout",
     "output_type": "stream",
     "text": [
      "test MSE: 15.2277, test PRMSE: 3.9023, test Q²: 0.0000\n"
     ]
    }
   ],
   "source": [
    "trainer.test(model, test_loader)\n",
    "\n",
    "y_pred_test = model.test_predictions\n",
    "y_true = model.targets\n",
    "mse = mean_squared_error(y_true, y_pred_test)\n",
    "q2 = r2_score(y_true, y_pred_test)\n",
    "rmse = np.sqrt(mse)\n",
    "print(f'test MSE: {mse:.4f}, test PRMSE: {rmse:.4f}, test Q²: {q2:.4f}')\n"
   ]
  },
  {
   "cell_type": "code",
   "execution_count": null,
   "id": "26219828",
   "metadata": {},
   "outputs": [],
   "source": [
    "# Откроем файл sample_submission и запишем в него предсказание\n",
    "sample_submission = pd.read_csv(\"sample_submission.csv\")\n",
    "# Добавим в качестве предсказаний тестовые данные\n",
    "sample_submission['LogP'] = [round(float(i), 5) for i in y_pred_test]"
   ]
  },
  {
   "cell_type": "code",
   "execution_count": 34,
   "id": "e1d638ef",
   "metadata": {},
   "outputs": [],
   "source": [
    "# Сохраняем прежсказание \n",
    "sample_submission.to_csv(\"prediction.csv\", index=False)"
   ]
  }
 ],
 "metadata": {
  "kernelspec": {
   "display_name": "Python 3",
   "language": "python",
   "name": "python3"
  },
  "language_info": {
   "codemirror_mode": {
    "name": "ipython",
    "version": 3
   },
   "file_extension": ".py",
   "mimetype": "text/x-python",
   "name": "python",
   "nbconvert_exporter": "python",
   "pygments_lexer": "ipython3",
   "version": "3.10.10"
  }
 },
 "nbformat": 4,
 "nbformat_minor": 5
}
