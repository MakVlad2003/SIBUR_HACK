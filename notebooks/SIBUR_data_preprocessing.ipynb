{
  "cells": [
    {
      "cell_type": "code",
      "execution_count": 43,
      "metadata": {
        "id": "bP6QirfRTil-"
      },
      "outputs": [
        {
          "name": "stderr",
          "output_type": "stream",
          "text": [
            "2025-04-19 18:40:29.129741: I tensorflow/core/util/util.cc:169] oneDNN custom operations are on. You may see slightly different numerical results due to floating-point round-off errors from different computation orders. To turn them off, set the environment variable `TF_ENABLE_ONEDNN_OPTS=0`.\n"
          ]
        },
        {
          "name": "stdout",
          "output_type": "stream",
          "text": [
            "Using device for embeddings: cuda\n"
          ]
        }
      ],
      "source": [
        "import os\n",
        "import numpy as np\n",
        "import pandas as pd\n",
        "from tqdm import tqdm\n",
        "\n",
        "# RDKit для фингерпринтов\n",
        "from rdkit import Chem\n",
        "from rdkit.Chem import rdMolDescriptors\n",
        "\n",
        "# sklearn для селекции и предобработки\n",
        "from sklearn.feature_selection import VarianceThreshold\n",
        "from sklearn.preprocessing     import RobustScaler, StandardScaler\n",
        "from sklearn.decomposition     import PCA\n",
        "from sklearn.ensemble          import RandomForestRegressor\n",
        "from sklearn.inspection        import permutation_importance\n",
        "\n",
        "# molecule-generation для эмбеддингов\n",
        "from molecule_generation import load_model_from_directory\n",
        "\n",
        "# CatBoost и метрики\n",
        "from catboost import CatBoostRegressor\n",
        "from sklearn.model_selection import train_test_split\n",
        "from sklearn.metrics import mean_squared_error\n",
        "\n",
        "# Устройство для MoLeR (если используется GPU)\n",
        "import torch\n",
        "device = 'cuda' if torch.cuda.is_available() else 'cpu'\n",
        "print(\"Using device for embeddings:\", device)"
      ]
    },
    {
      "cell_type": "code",
      "execution_count": 60,
      "metadata": {
        "id": "LPKOEo4gmNSy"
      },
      "outputs": [],
      "source": [
        "# Пути\n",
        "TRAIN_RAW = \"/home/oleg28/shteyn/vlad/SIBUR_HACK/data/train_data_all_descriptors.csv\"\n",
        "TEST_RAW  = \"/home/oleg28/shteyn/vlad/SIBUR_HACK/data/test_data_all_descriptors.csv\"\n",
        "MODEL_DIR = \"/home/oleg28/shteyn/vlad/SIBUR_HACK/moler/molecule-generation/molecule_generation/model_checkpoint\"\n",
        "OUTPUT    = \"/home/oleg28/shteyn/vlad/SIBUR_HACK/processed\"\n",
        "os.makedirs(OUTPUT, exist_ok=True)"
      ]
    },
    {
      "cell_type": "markdown",
      "metadata": {
        "id": "aWDJ6nG6lxzG"
      },
      "source": [
        "### I. Базовый EDA"
      ]
    },
    {
      "cell_type": "markdown",
      "metadata": {
        "id": "3WczTK_0mGHk"
      },
      "source": [
        "1. Считаем пропуски и дубликаты по SMILES.\n",
        "\n",
        "2. Удаляем полностью дублирующиеся молекулы."
      ]
    },
    {
      "cell_type": "code",
      "execution_count": 52,
      "metadata": {},
      "outputs": [],
      "source": [
        "df_train = pd.read_csv(TRAIN_RAW)\n",
        "df_test  = pd.read_csv(TEST_RAW)"
      ]
    },
    {
      "cell_type": "code",
      "execution_count": 53,
      "metadata": {
        "colab": {
          "base_uri": "https://localhost:8080/"
        },
        "id": "zifwpSb5mQv-",
        "outputId": "a5be486d-e818-4a18-d2a7-05659debe37b"
      },
      "outputs": [
        {
          "name": "stdout",
          "output_type": "stream",
          "text": [
            "Missing in train:\n",
            " Series([], dtype: int64)\n",
            "Missing in test:\n",
            " Series([], dtype: int64)\n"
          ]
        }
      ],
      "source": [
        "# Пропуски\n",
        "print(\"Missing in train:\\n\", df_train.isnull().sum().loc[lambda x: x>0])\n",
        "print(\"Missing in test:\\n\",  df_test .isnull().sum().loc[lambda x: x>0])"
      ]
    },
    {
      "cell_type": "code",
      "execution_count": 54,
      "metadata": {
        "colab": {
          "base_uri": "https://localhost:8080/"
        },
        "id": "1jRyocDjmYa3",
        "outputId": "960aec92-8237-4909-ddfd-6269d1d3e2c4"
      },
      "outputs": [
        {
          "name": "stdout",
          "output_type": "stream",
          "text": [
            "SMILES duplicates in train: 3053\n",
            "Train shape after deduplication: (10898, 105)\n"
          ]
        }
      ],
      "source": [
        "# Дубликаты SMILES\n",
        "dups = df_train.duplicated(\"SMILES\", keep=False).sum()\n",
        "print(\"SMILES duplicates in train:\", dups)\n",
        "\n",
        "df_train = df_train.drop_duplicates(\"SMILES\").reset_index(drop=True)\n",
        "print(\"Train shape after deduplication:\", df_train.shape)"
      ]
    },
    {
      "cell_type": "markdown",
      "metadata": {
        "id": "18LpUXQ1oIDR"
      },
      "source": [
        "### II. Добавление Morgan‑fingerprints  \n",
        "  \n",
        "`Fingerprint` — это битовая маска, отражающая окружение атомов.  \n",
        "Здесь используем `1024‑битный` `Morgan‑fingerprint` `(radius=2)`."
      ]
    },
    {
      "cell_type": "code",
      "execution_count": 55,
      "metadata": {},
      "outputs": [],
      "source": [
        "def smiles_to_fp(smi, radius=2, n_bits=1024):\n",
        "    mol = Chem.MolFromSmiles(smi)\n",
        "    if mol is None:\n",
        "        return np.zeros(n_bits, dtype=int)\n",
        "    fp = rdMolDescriptors.GetMorganFingerprintAsBitVect(mol, radius, n_bits)\n",
        "    arr = np.zeros(n_bits, dtype=int)\n",
        "    arr[list(fp.GetOnBits())] = 1\n",
        "    return arr"
      ]
    },
    {
      "cell_type": "code",
      "execution_count": 56,
      "metadata": {},
      "outputs": [
        {
          "name": "stderr",
          "output_type": "stream",
          "text": [
            "Morgan train: 100%|██████████| 10898/10898 [00:01<00:00, 8334.38it/s]\n",
            "Morgan test: 100%|██████████| 2630/2630 [00:00<00:00, 10053.83it/s]\n"
          ]
        }
      ],
      "source": [
        "# Генерация\n",
        "fps_tr = np.vstack([smiles_to_fp(s) for s in tqdm(df_train[\"SMILES\"], desc=\"Morgan train\")])\n",
        "fps_te = np.vstack([smiles_to_fp(s) for s in tqdm(df_test [\"SMILES\"], desc=\"Morgan test\" )])"
      ]
    },
    {
      "cell_type": "code",
      "execution_count": 57,
      "metadata": {},
      "outputs": [],
      "source": [
        "# DataFrames\n",
        "fp_cols      = [f\"FP_{i}\" for i in range(fps_tr.shape[1])]\n",
        "df_fp_train  = pd.DataFrame(fps_tr, columns=fp_cols)\n",
        "df_fp_test   = pd.DataFrame(fps_te,  columns=fp_cols)"
      ]
    },
    {
      "cell_type": "code",
      "execution_count": 58,
      "metadata": {},
      "outputs": [
        {
          "name": "stdout",
          "output_type": "stream",
          "text": [
            "Morgan shapes: (10898, 1026) (2630, 1025)\n"
          ]
        }
      ],
      "source": [
        "# Склейка и сохранение\n",
        "train_morgan = pd.concat([df_train[[\"ID\",\"LogP\"]].reset_index(drop=True), df_fp_train], axis=1)\n",
        "test_morgan  = pd.concat([df_test [[\"ID\"]].reset_index(drop=True), df_fp_test ], axis=1)\n",
        "train_morgan.to_csv(f\"{OUTPUT}/train_morgan.csv\", index=False)\n",
        "test_morgan .to_csv(f\"{OUTPUT}/test_morgan.csv\" , index=False)\n",
        "print(\"Morgan shapes:\", train_morgan.shape, test_morgan.shape)"
      ]
    },
    {
      "cell_type": "markdown",
      "metadata": {},
      "source": [
        "### III. MoLeR Embeddings"
      ]
    },
    {
      "cell_type": "code",
      "execution_count": 64,
      "metadata": {},
      "outputs": [
        {
          "name": "stdout",
          "output_type": "stream",
          "text": [
            "Загружаем модель из: /home/oleg28/shteyn/vlad/SIBUR_HACK/moler/molecule-generation/molecule_generation/model_checkpoint\n",
            "Loading a trained model from: /home/oleg28/shteyn/vlad/SIBUR_HACK/moler/molecule-generation/molecule_generation/model_checkpoint/GNN_Edge_MLP_MoLeR__2022-02-24_07-16-23_best.pkl\n"
          ]
        },
        {
          "name": "stderr",
          "output_type": "stream",
          "text": [
            "2025-04-19 18:52:00.245616: E tensorflow/stream_executor/cuda/cuda_driver.cc:271] failed call to cuInit: CUDA_ERROR_NOT_INITIALIZED: initialization error\n",
            "2025-04-19 18:52:00.245649: I tensorflow/stream_executor/cuda/cuda_diagnostics.cc:169] retrieving CUDA diagnostic information for host: DevServ\n",
            "2025-04-19 18:52:00.260203: I tensorflow/stream_executor/cuda/cuda_diagnostics.cc:176] hostname: DevServ\n",
            "2025-04-19 18:52:00.260316: I tensorflow/stream_executor/cuda/cuda_diagnostics.cc:200] libcuda reported version is: 535.183.1\n",
            "2025-04-19 18:52:00.260346: I tensorflow/stream_executor/cuda/cuda_diagnostics.cc:204] kernel reported version is: 535.183.1\n",
            "2025-04-19 18:52:00.260351: I tensorflow/stream_executor/cuda/cuda_diagnostics.cc:310] kernel version seems to match DSO: 535.183.1\n",
            "2025-04-19 18:52:00.261004: I tensorflow/core/platform/cpu_feature_guard.cc:193] This TensorFlow binary is optimized with oneAPI Deep Neural Network Library (oneDNN) to use the following CPU instructions in performance-critical operations:  SSE4.1 SSE4.2 AVX AVX2 AVX512F AVX512_VNNI AVX512_BF16 FMA\n",
            "To enable them in other operations, rebuild TensorFlow with the appropriate compiler flags.\n",
            "2025-04-19 18:52:00.267721: E tensorflow/stream_executor/cuda/cuda_driver.cc:271] failed call to cuInit: CUDA_ERROR_NOT_INITIALIZED: initialization error\n",
            "2025-04-19 18:52:00.267753: I tensorflow/stream_executor/cuda/cuda_diagnostics.cc:169] retrieving CUDA diagnostic information for host: DevServ\n",
            "2025-04-19 18:52:00.267760: I tensorflow/stream_executor/cuda/cuda_diagnostics.cc:176] hostname: DevServ\n",
            "2025-04-19 18:52:00.267854: I tensorflow/stream_executor/cuda/cuda_diagnostics.cc:200] libcuda reported version is: 535.183.1\n",
            "2025-04-19 18:52:00.267886: I tensorflow/stream_executor/cuda/cuda_diagnostics.cc:204] kernel reported version is: 535.183.1\n",
            "2025-04-19 18:52:00.267891: I tensorflow/stream_executor/cuda/cuda_diagnostics.cc:310] kernel version seems to match DSO: 535.183.1\n",
            "2025-04-19 18:52:00.268225: I tensorflow/core/platform/cpu_feature_guard.cc:193] This TensorFlow binary is optimized with oneAPI Deep Neural Network Library (oneDNN) to use the following CPU instructions in performance-critical operations:  SSE4.1 SSE4.2 AVX AVX2 AVX512F AVX512_VNNI AVX512_BF16 FMA\n",
            "To enable them in other operations, rebuild TensorFlow with the appropriate compiler flags.\n",
            "2025-04-19 18:52:00.293418: E tensorflow/stream_executor/cuda/cuda_driver.cc:271] failed call to cuInit: CUDA_ERROR_NOT_INITIALIZED: initialization error\n",
            "2025-04-19 18:52:00.293449: I tensorflow/stream_executor/cuda/cuda_diagnostics.cc:169] retrieving CUDA diagnostic information for host: DevServ\n",
            "2025-04-19 18:52:00.293454: I tensorflow/stream_executor/cuda/cuda_diagnostics.cc:176] hostname: DevServ\n",
            "2025-04-19 18:52:00.293540: I tensorflow/stream_executor/cuda/cuda_diagnostics.cc:200] libcuda reported version is: 535.183.1\n",
            "2025-04-19 18:52:00.293565: I tensorflow/stream_executor/cuda/cuda_diagnostics.cc:204] kernel reported version is: 535.183.1\n",
            "2025-04-19 18:52:00.293570: I tensorflow/stream_executor/cuda/cuda_diagnostics.cc:310] kernel version seems to match DSO: 535.183.1\n",
            "2025-04-19 18:52:00.293859: I tensorflow/core/platform/cpu_feature_guard.cc:193] This TensorFlow binary is optimized with oneAPI Deep Neural Network Library (oneDNN) to use the following CPU instructions in performance-critical operations:  SSE4.1 SSE4.2 AVX AVX2 AVX512F AVX512_VNNI AVX512_BF16 FMA\n",
            "To enable them in other operations, rebuild TensorFlow with the appropriate compiler flags.\n"
          ]
        },
        {
          "name": "stderr",
          "output_type": "stream",
          "text": [
            "2025-04-19 18:52:00.320351: E tensorflow/stream_executor/cuda/cuda_driver.cc:271] failed call to cuInit: CUDA_ERROR_NOT_INITIALIZED: initialization error\n",
            "2025-04-19 18:52:00.320380: I tensorflow/stream_executor/cuda/cuda_diagnostics.cc:169] retrieving CUDA diagnostic information for host: DevServ\n",
            "2025-04-19 18:52:00.320386: I tensorflow/stream_executor/cuda/cuda_diagnostics.cc:176] hostname: DevServ\n",
            "2025-04-19 18:52:00.320464: I tensorflow/stream_executor/cuda/cuda_diagnostics.cc:200] libcuda reported version is: 535.183.1\n",
            "2025-04-19 18:52:00.320489: I tensorflow/stream_executor/cuda/cuda_diagnostics.cc:204] kernel reported version is: 535.183.1\n",
            "2025-04-19 18:52:00.320493: I tensorflow/stream_executor/cuda/cuda_diagnostics.cc:310] kernel version seems to match DSO: 535.183.1\n",
            "2025-04-19 18:52:00.320773: I tensorflow/core/platform/cpu_feature_guard.cc:193] This TensorFlow binary is optimized with oneAPI Deep Neural Network Library (oneDNN) to use the following CPU instructions in performance-critical operations:  SSE4.1 SSE4.2 AVX AVX2 AVX512F AVX512_VNNI AVX512_BF16 FMA\n",
            "To enable them in other operations, rebuild TensorFlow with the appropriate compiler flags.\n",
            "2025-04-19 18:52:00.346930: E tensorflow/stream_executor/cuda/cuda_driver.cc:271] failed call to cuInit: CUDA_ERROR_NOT_INITIALIZED: initialization error\n",
            "2025-04-19 18:52:00.346960: I tensorflow/stream_executor/cuda/cuda_diagnostics.cc:169] retrieving CUDA diagnostic information for host: DevServ\n",
            "2025-04-19 18:52:00.346965: I tensorflow/stream_executor/cuda/cuda_diagnostics.cc:176] hostname: DevServ\n",
            "2025-04-19 18:52:00.347067: I tensorflow/stream_executor/cuda/cuda_diagnostics.cc:200] libcuda reported version is: 535.183.1\n",
            "2025-04-19 18:52:00.347093: I tensorflow/stream_executor/cuda/cuda_diagnostics.cc:204] kernel reported version is: 535.183.1\n",
            "2025-04-19 18:52:00.347097: I tensorflow/stream_executor/cuda/cuda_diagnostics.cc:310] kernel version seems to match DSO: 535.183.1\n",
            "2025-04-19 18:52:00.347395: I tensorflow/core/platform/cpu_feature_guard.cc:193] This TensorFlow binary is optimized with oneAPI Deep Neural Network Library (oneDNN) to use the following CPU instructions in performance-critical operations:  SSE4.1 SSE4.2 AVX AVX2 AVX512F AVX512_VNNI AVX512_BF16 FMA\n",
            "To enable them in other operations, rebuild TensorFlow with the appropriate compiler flags.\n",
            "2025-04-19 18:52:00.373881: E tensorflow/stream_executor/cuda/cuda_driver.cc:271] failed call to cuInit: CUDA_ERROR_NOT_INITIALIZED: initialization error\n",
            "2025-04-19 18:52:00.373910: I tensorflow/stream_executor/cuda/cuda_diagnostics.cc:169] retrieving CUDA diagnostic information for host: DevServ\n",
            "2025-04-19 18:52:00.373915: I tensorflow/stream_executor/cuda/cuda_diagnostics.cc:176] hostname: DevServ\n",
            "2025-04-19 18:52:00.374009: I tensorflow/stream_executor/cuda/cuda_diagnostics.cc:200] libcuda reported version is: 535.183.1\n",
            "2025-04-19 18:52:00.374034: I tensorflow/stream_executor/cuda/cuda_diagnostics.cc:204] kernel reported version is: 535.183.1\n",
            "2025-04-19 18:52:00.374038: I tensorflow/stream_executor/cuda/cuda_diagnostics.cc:310] kernel version seems to match DSO: 535.183.1\n",
            "2025-04-19 18:52:00.374353: I tensorflow/core/platform/cpu_feature_guard.cc:193] This TensorFlow binary is optimized with oneAPI Deep Neural Network Library (oneDNN) to use the following CPU instructions in performance-critical operations:  SSE4.1 SSE4.2 AVX AVX2 AVX512F AVX512_VNNI AVX512_BF16 FMA\n",
            "To enable them in other operations, rebuild TensorFlow with the appropriate compiler flags.\n",
            "2025-04-19 18:52:00.402732: E tensorflow/stream_executor/cuda/cuda_driver.cc:271] failed call to cuInit: CUDA_ERROR_NOT_INITIALIZED: initialization error\n",
            "2025-04-19 18:52:00.402763: I tensorflow/stream_executor/cuda/cuda_diagnostics.cc:169] retrieving CUDA diagnostic information for host: DevServ\n",
            "2025-04-19 18:52:00.402769: I tensorflow/stream_executor/cuda/cuda_diagnostics.cc:176] hostname: DevServ\n",
            "2025-04-19 18:52:00.402859: I tensorflow/stream_executor/cuda/cuda_diagnostics.cc:200] libcuda reported version is: 535.183.1\n",
            "2025-04-19 18:52:00.402885: I tensorflow/stream_executor/cuda/cuda_diagnostics.cc:204] kernel reported version is: 535.183.1\n",
            "2025-04-19 18:52:00.402890: I tensorflow/stream_executor/cuda/cuda_diagnostics.cc:310] kernel version seems to match DSO: 535.183.1\n",
            "2025-04-19 18:52:00.403185: I tensorflow/core/platform/cpu_feature_guard.cc:193] This TensorFlow binary is optimized with oneAPI Deep Neural Network Library (oneDNN) to use the following CPU instructions in performance-critical operations:  SSE4.1 SSE4.2 AVX AVX2 AVX512F AVX512_VNNI AVX512_BF16 FMA\n",
            "To enable them in other operations, rebuild TensorFlow with the appropriate compiler flags.\n",
            "2025-04-19 18:52:00.432197: E tensorflow/stream_executor/cuda/cuda_driver.cc:271] failed call to cuInit: CUDA_ERROR_NOT_INITIALIZED: initialization error\n",
            "2025-04-19 18:52:00.432230: I tensorflow/stream_executor/cuda/cuda_diagnostics.cc:169] retrieving CUDA diagnostic information for host: DevServ\n",
            "2025-04-19 18:52:00.432236: I tensorflow/stream_executor/cuda/cuda_diagnostics.cc:176] hostname: DevServ\n",
            "2025-04-19 18:52:00.432333: I tensorflow/stream_executor/cuda/cuda_diagnostics.cc:200] libcuda reported version is: 535.183.1\n",
            "2025-04-19 18:52:00.432361: I tensorflow/stream_executor/cuda/cuda_diagnostics.cc:204] kernel reported version is: 535.183.1\n",
            "2025-04-19 18:52:00.432365: I tensorflow/stream_executor/cuda/cuda_diagnostics.cc:310] kernel version seems to match DSO: 535.183.1\n",
            "2025-04-19 18:52:00.432674: I tensorflow/core/platform/cpu_feature_guard.cc:193] This TensorFlow binary is optimized with oneAPI Deep Neural Network Library (oneDNN) to use the following CPU instructions in performance-critical operations:  SSE4.1 SSE4.2 AVX AVX2 AVX512F AVX512_VNNI AVX512_BF16 FMA\n",
            "To enable them in other operations, rebuild TensorFlow with the appropriate compiler flags.\n"
          ]
        },
        {
          "name": "stdout",
          "output_type": "stream",
          "text": [
            "Получено эмбеддингов для train: 10898\n"
          ]
        },
        {
          "name": "stderr",
          "output_type": "stream",
          "text": [
            "opriate compiler flags.\n"
          ]
        },
        {
          "name": "stdout",
          "output_type": "stream",
          "text": [
            "Получено эмбеддингов для test: 2630\n"
          ]
        }
      ],
      "source": [
        "print(\"Загружаем модель из:\", MODEL_DIR)\n",
        "with load_model_from_directory(MODEL_DIR, num_workers=8, beam_size=1) as model:\n",
        "    smiles_list = df_train[\"SMILES\"].tolist()\n",
        "    # Генерируем эмбеддинги (возвращается List[np.ndarray])\n",
        "    emb_tr = model.encode(smiles_list)\n",
        "    print(\"Получено эмбеддингов для train:\", len(emb_tr))\n",
        "    smiles_list_te = df_test[\"SMILES\"].tolist()\n",
        "    emb_te = model.encode(smiles_list_te)\n",
        "    print(\"Получено эмбеддингов для test:\", len(emb_te))\n"
      ]
    },
    {
      "cell_type": "code",
      "execution_count": 65,
      "metadata": {},
      "outputs": [
        {
          "name": "stdout",
          "output_type": "stream",
          "text": [
            "Raw embed shapes: (10898, 512) (2630, 512)\n"
          ]
        }
      ],
      "source": [
        "# Собираем массивы\n",
        "emb_tr = np.vstack(emb_tr)\n",
        "emb_te = np.vstack(emb_te)\n",
        "print(\"Raw embed shapes:\", emb_tr.shape, emb_te.shape)"
      ]
    },
    {
      "cell_type": "code",
      "execution_count": 66,
      "metadata": {},
      "outputs": [],
      "source": [
        "# PCA => 50 компонент\n",
        "pca      = PCA(n_components=128, random_state=42)\n",
        "pca_tr   = pca.fit_transform(emb_tr)\n",
        "pca_te   = pca.transform(emb_te)\n",
        "\n",
        "embed_cols     = [f\"embed_pca_{i}\" for i in range(128)]\n",
        "df_embed_train = pd.DataFrame(pca_tr, columns=embed_cols)\n",
        "df_embed_test  = pd.DataFrame(pca_te, columns=embed_cols)\n",
        "df_embed_train[\"ID\"] = df_train[\"ID\"].values\n",
        "df_embed_test [\"ID\"] = df_test [\"ID\"].values"
      ]
    },
    {
      "cell_type": "code",
      "execution_count": 67,
      "metadata": {},
      "outputs": [],
      "source": [
        "# Стандартизация\n",
        "ss = StandardScaler().fit(df_embed_train[embed_cols])\n",
        "df_embed_train[embed_cols] = ss.transform(df_embed_train[embed_cols])\n",
        "df_embed_test [embed_cols]   = ss.transform(df_embed_test [embed_cols])"
      ]
    },
    {
      "cell_type": "code",
      "execution_count": 68,
      "metadata": {},
      "outputs": [
        {
          "name": "stdout",
          "output_type": "stream",
          "text": [
            "Embed shapes: (10898, 129) (2630, 129)\n"
          ]
        }
      ],
      "source": [
        "# Сохраняем\n",
        "train_embed = df_embed_train[[\"ID\"]+embed_cols]\n",
        "test_embed  = df_embed_test [[\"ID\"]+embed_cols]\n",
        "train_embed.to_csv(f\"{OUTPUT}/train_embed.csv\", index=False)\n",
        "test_embed .to_csv(f\"{OUTPUT}/test_embed.csv\" , index=False)\n",
        "print(\"Embed shapes:\", train_embed.shape, test_embed.shape)"
      ]
    },
    {
      "cell_type": "markdown",
      "metadata": {
        "id": "JHgQBWeicaer"
      },
      "source": [
        "### IV. Очистка и удаление признаков с нулевой дисперсией\n",
        "  \n",
        "- Убираем колонки `SMILES` и `mol` (RDKit‑объект).  \n",
        "- Сохраняем `ID` и `LogP`.  \n",
        "- Удаляем признаки, где вариация равна нулю."
      ]
    },
    {
      "cell_type": "code",
      "execution_count": 69,
      "metadata": {},
      "outputs": [],
      "source": [
        "# Объединяем фичи\n",
        "train_full = train_morgan.merge(train_embed, on=\"ID\")\n",
        "test_full  = test_morgan .merge(test_embed,  on=\"ID\")"
      ]
    },
    {
      "cell_type": "code",
      "execution_count": 70,
      "metadata": {
        "id": "6PmI9X40c4Cm"
      },
      "outputs": [
        {
          "data": {
            "text/html": [
              "<style>#sk-container-id-2 {\n",
              "  /* Definition of color scheme common for light and dark mode */\n",
              "  --sklearn-color-text: #000;\n",
              "  --sklearn-color-text-muted: #666;\n",
              "  --sklearn-color-line: gray;\n",
              "  /* Definition of color scheme for unfitted estimators */\n",
              "  --sklearn-color-unfitted-level-0: #fff5e6;\n",
              "  --sklearn-color-unfitted-level-1: #f6e4d2;\n",
              "  --sklearn-color-unfitted-level-2: #ffe0b3;\n",
              "  --sklearn-color-unfitted-level-3: chocolate;\n",
              "  /* Definition of color scheme for fitted estimators */\n",
              "  --sklearn-color-fitted-level-0: #f0f8ff;\n",
              "  --sklearn-color-fitted-level-1: #d4ebff;\n",
              "  --sklearn-color-fitted-level-2: #b3dbfd;\n",
              "  --sklearn-color-fitted-level-3: cornflowerblue;\n",
              "\n",
              "  /* Specific color for light theme */\n",
              "  --sklearn-color-text-on-default-background: var(--sg-text-color, var(--theme-code-foreground, var(--jp-content-font-color1, black)));\n",
              "  --sklearn-color-background: var(--sg-background-color, var(--theme-background, var(--jp-layout-color0, white)));\n",
              "  --sklearn-color-border-box: var(--sg-text-color, var(--theme-code-foreground, var(--jp-content-font-color1, black)));\n",
              "  --sklearn-color-icon: #696969;\n",
              "\n",
              "  @media (prefers-color-scheme: dark) {\n",
              "    /* Redefinition of color scheme for dark theme */\n",
              "    --sklearn-color-text-on-default-background: var(--sg-text-color, var(--theme-code-foreground, var(--jp-content-font-color1, white)));\n",
              "    --sklearn-color-background: var(--sg-background-color, var(--theme-background, var(--jp-layout-color0, #111)));\n",
              "    --sklearn-color-border-box: var(--sg-text-color, var(--theme-code-foreground, var(--jp-content-font-color1, white)));\n",
              "    --sklearn-color-icon: #878787;\n",
              "  }\n",
              "}\n",
              "\n",
              "#sk-container-id-2 {\n",
              "  color: var(--sklearn-color-text);\n",
              "}\n",
              "\n",
              "#sk-container-id-2 pre {\n",
              "  padding: 0;\n",
              "}\n",
              "\n",
              "#sk-container-id-2 input.sk-hidden--visually {\n",
              "  border: 0;\n",
              "  clip: rect(1px 1px 1px 1px);\n",
              "  clip: rect(1px, 1px, 1px, 1px);\n",
              "  height: 1px;\n",
              "  margin: -1px;\n",
              "  overflow: hidden;\n",
              "  padding: 0;\n",
              "  position: absolute;\n",
              "  width: 1px;\n",
              "}\n",
              "\n",
              "#sk-container-id-2 div.sk-dashed-wrapped {\n",
              "  border: 1px dashed var(--sklearn-color-line);\n",
              "  margin: 0 0.4em 0.5em 0.4em;\n",
              "  box-sizing: border-box;\n",
              "  padding-bottom: 0.4em;\n",
              "  background-color: var(--sklearn-color-background);\n",
              "}\n",
              "\n",
              "#sk-container-id-2 div.sk-container {\n",
              "  /* jupyter's `normalize.less` sets `[hidden] { display: none; }`\n",
              "     but bootstrap.min.css set `[hidden] { display: none !important; }`\n",
              "     so we also need the `!important` here to be able to override the\n",
              "     default hidden behavior on the sphinx rendered scikit-learn.org.\n",
              "     See: https://github.com/scikit-learn/scikit-learn/issues/21755 */\n",
              "  display: inline-block !important;\n",
              "  position: relative;\n",
              "}\n",
              "\n",
              "#sk-container-id-2 div.sk-text-repr-fallback {\n",
              "  display: none;\n",
              "}\n",
              "\n",
              "div.sk-parallel-item,\n",
              "div.sk-serial,\n",
              "div.sk-item {\n",
              "  /* draw centered vertical line to link estimators */\n",
              "  background-image: linear-gradient(var(--sklearn-color-text-on-default-background), var(--sklearn-color-text-on-default-background));\n",
              "  background-size: 2px 100%;\n",
              "  background-repeat: no-repeat;\n",
              "  background-position: center center;\n",
              "}\n",
              "\n",
              "/* Parallel-specific style estimator block */\n",
              "\n",
              "#sk-container-id-2 div.sk-parallel-item::after {\n",
              "  content: \"\";\n",
              "  width: 100%;\n",
              "  border-bottom: 2px solid var(--sklearn-color-text-on-default-background);\n",
              "  flex-grow: 1;\n",
              "}\n",
              "\n",
              "#sk-container-id-2 div.sk-parallel {\n",
              "  display: flex;\n",
              "  align-items: stretch;\n",
              "  justify-content: center;\n",
              "  background-color: var(--sklearn-color-background);\n",
              "  position: relative;\n",
              "}\n",
              "\n",
              "#sk-container-id-2 div.sk-parallel-item {\n",
              "  display: flex;\n",
              "  flex-direction: column;\n",
              "}\n",
              "\n",
              "#sk-container-id-2 div.sk-parallel-item:first-child::after {\n",
              "  align-self: flex-end;\n",
              "  width: 50%;\n",
              "}\n",
              "\n",
              "#sk-container-id-2 div.sk-parallel-item:last-child::after {\n",
              "  align-self: flex-start;\n",
              "  width: 50%;\n",
              "}\n",
              "\n",
              "#sk-container-id-2 div.sk-parallel-item:only-child::after {\n",
              "  width: 0;\n",
              "}\n",
              "\n",
              "/* Serial-specific style estimator block */\n",
              "\n",
              "#sk-container-id-2 div.sk-serial {\n",
              "  display: flex;\n",
              "  flex-direction: column;\n",
              "  align-items: center;\n",
              "  background-color: var(--sklearn-color-background);\n",
              "  padding-right: 1em;\n",
              "  padding-left: 1em;\n",
              "}\n",
              "\n",
              "\n",
              "/* Toggleable style: style used for estimator/Pipeline/ColumnTransformer box that is\n",
              "clickable and can be expanded/collapsed.\n",
              "- Pipeline and ColumnTransformer use this feature and define the default style\n",
              "- Estimators will overwrite some part of the style using the `sk-estimator` class\n",
              "*/\n",
              "\n",
              "/* Pipeline and ColumnTransformer style (default) */\n",
              "\n",
              "#sk-container-id-2 div.sk-toggleable {\n",
              "  /* Default theme specific background. It is overwritten whether we have a\n",
              "  specific estimator or a Pipeline/ColumnTransformer */\n",
              "  background-color: var(--sklearn-color-background);\n",
              "}\n",
              "\n",
              "/* Toggleable label */\n",
              "#sk-container-id-2 label.sk-toggleable__label {\n",
              "  cursor: pointer;\n",
              "  display: flex;\n",
              "  width: 100%;\n",
              "  margin-bottom: 0;\n",
              "  padding: 0.5em;\n",
              "  box-sizing: border-box;\n",
              "  text-align: center;\n",
              "  align-items: start;\n",
              "  justify-content: space-between;\n",
              "  gap: 0.5em;\n",
              "}\n",
              "\n",
              "#sk-container-id-2 label.sk-toggleable__label .caption {\n",
              "  font-size: 0.6rem;\n",
              "  font-weight: lighter;\n",
              "  color: var(--sklearn-color-text-muted);\n",
              "}\n",
              "\n",
              "#sk-container-id-2 label.sk-toggleable__label-arrow:before {\n",
              "  /* Arrow on the left of the label */\n",
              "  content: \"▸\";\n",
              "  float: left;\n",
              "  margin-right: 0.25em;\n",
              "  color: var(--sklearn-color-icon);\n",
              "}\n",
              "\n",
              "#sk-container-id-2 label.sk-toggleable__label-arrow:hover:before {\n",
              "  color: var(--sklearn-color-text);\n",
              "}\n",
              "\n",
              "/* Toggleable content - dropdown */\n",
              "\n",
              "#sk-container-id-2 div.sk-toggleable__content {\n",
              "  max-height: 0;\n",
              "  max-width: 0;\n",
              "  overflow: hidden;\n",
              "  text-align: left;\n",
              "  /* unfitted */\n",
              "  background-color: var(--sklearn-color-unfitted-level-0);\n",
              "}\n",
              "\n",
              "#sk-container-id-2 div.sk-toggleable__content.fitted {\n",
              "  /* fitted */\n",
              "  background-color: var(--sklearn-color-fitted-level-0);\n",
              "}\n",
              "\n",
              "#sk-container-id-2 div.sk-toggleable__content pre {\n",
              "  margin: 0.2em;\n",
              "  border-radius: 0.25em;\n",
              "  color: var(--sklearn-color-text);\n",
              "  /* unfitted */\n",
              "  background-color: var(--sklearn-color-unfitted-level-0);\n",
              "}\n",
              "\n",
              "#sk-container-id-2 div.sk-toggleable__content.fitted pre {\n",
              "  /* unfitted */\n",
              "  background-color: var(--sklearn-color-fitted-level-0);\n",
              "}\n",
              "\n",
              "#sk-container-id-2 input.sk-toggleable__control:checked~div.sk-toggleable__content {\n",
              "  /* Expand drop-down */\n",
              "  max-height: 200px;\n",
              "  max-width: 100%;\n",
              "  overflow: auto;\n",
              "}\n",
              "\n",
              "#sk-container-id-2 input.sk-toggleable__control:checked~label.sk-toggleable__label-arrow:before {\n",
              "  content: \"▾\";\n",
              "}\n",
              "\n",
              "/* Pipeline/ColumnTransformer-specific style */\n",
              "\n",
              "#sk-container-id-2 div.sk-label input.sk-toggleable__control:checked~label.sk-toggleable__label {\n",
              "  color: var(--sklearn-color-text);\n",
              "  background-color: var(--sklearn-color-unfitted-level-2);\n",
              "}\n",
              "\n",
              "#sk-container-id-2 div.sk-label.fitted input.sk-toggleable__control:checked~label.sk-toggleable__label {\n",
              "  background-color: var(--sklearn-color-fitted-level-2);\n",
              "}\n",
              "\n",
              "/* Estimator-specific style */\n",
              "\n",
              "/* Colorize estimator box */\n",
              "#sk-container-id-2 div.sk-estimator input.sk-toggleable__control:checked~label.sk-toggleable__label {\n",
              "  /* unfitted */\n",
              "  background-color: var(--sklearn-color-unfitted-level-2);\n",
              "}\n",
              "\n",
              "#sk-container-id-2 div.sk-estimator.fitted input.sk-toggleable__control:checked~label.sk-toggleable__label {\n",
              "  /* fitted */\n",
              "  background-color: var(--sklearn-color-fitted-level-2);\n",
              "}\n",
              "\n",
              "#sk-container-id-2 div.sk-label label.sk-toggleable__label,\n",
              "#sk-container-id-2 div.sk-label label {\n",
              "  /* The background is the default theme color */\n",
              "  color: var(--sklearn-color-text-on-default-background);\n",
              "}\n",
              "\n",
              "/* On hover, darken the color of the background */\n",
              "#sk-container-id-2 div.sk-label:hover label.sk-toggleable__label {\n",
              "  color: var(--sklearn-color-text);\n",
              "  background-color: var(--sklearn-color-unfitted-level-2);\n",
              "}\n",
              "\n",
              "/* Label box, darken color on hover, fitted */\n",
              "#sk-container-id-2 div.sk-label.fitted:hover label.sk-toggleable__label.fitted {\n",
              "  color: var(--sklearn-color-text);\n",
              "  background-color: var(--sklearn-color-fitted-level-2);\n",
              "}\n",
              "\n",
              "/* Estimator label */\n",
              "\n",
              "#sk-container-id-2 div.sk-label label {\n",
              "  font-family: monospace;\n",
              "  font-weight: bold;\n",
              "  display: inline-block;\n",
              "  line-height: 1.2em;\n",
              "}\n",
              "\n",
              "#sk-container-id-2 div.sk-label-container {\n",
              "  text-align: center;\n",
              "}\n",
              "\n",
              "/* Estimator-specific */\n",
              "#sk-container-id-2 div.sk-estimator {\n",
              "  font-family: monospace;\n",
              "  border: 1px dotted var(--sklearn-color-border-box);\n",
              "  border-radius: 0.25em;\n",
              "  box-sizing: border-box;\n",
              "  margin-bottom: 0.5em;\n",
              "  /* unfitted */\n",
              "  background-color: var(--sklearn-color-unfitted-level-0);\n",
              "}\n",
              "\n",
              "#sk-container-id-2 div.sk-estimator.fitted {\n",
              "  /* fitted */\n",
              "  background-color: var(--sklearn-color-fitted-level-0);\n",
              "}\n",
              "\n",
              "/* on hover */\n",
              "#sk-container-id-2 div.sk-estimator:hover {\n",
              "  /* unfitted */\n",
              "  background-color: var(--sklearn-color-unfitted-level-2);\n",
              "}\n",
              "\n",
              "#sk-container-id-2 div.sk-estimator.fitted:hover {\n",
              "  /* fitted */\n",
              "  background-color: var(--sklearn-color-fitted-level-2);\n",
              "}\n",
              "\n",
              "/* Specification for estimator info (e.g. \"i\" and \"?\") */\n",
              "\n",
              "/* Common style for \"i\" and \"?\" */\n",
              "\n",
              ".sk-estimator-doc-link,\n",
              "a:link.sk-estimator-doc-link,\n",
              "a:visited.sk-estimator-doc-link {\n",
              "  float: right;\n",
              "  font-size: smaller;\n",
              "  line-height: 1em;\n",
              "  font-family: monospace;\n",
              "  background-color: var(--sklearn-color-background);\n",
              "  border-radius: 1em;\n",
              "  height: 1em;\n",
              "  width: 1em;\n",
              "  text-decoration: none !important;\n",
              "  margin-left: 0.5em;\n",
              "  text-align: center;\n",
              "  /* unfitted */\n",
              "  border: var(--sklearn-color-unfitted-level-1) 1pt solid;\n",
              "  color: var(--sklearn-color-unfitted-level-1);\n",
              "}\n",
              "\n",
              ".sk-estimator-doc-link.fitted,\n",
              "a:link.sk-estimator-doc-link.fitted,\n",
              "a:visited.sk-estimator-doc-link.fitted {\n",
              "  /* fitted */\n",
              "  border: var(--sklearn-color-fitted-level-1) 1pt solid;\n",
              "  color: var(--sklearn-color-fitted-level-1);\n",
              "}\n",
              "\n",
              "/* On hover */\n",
              "div.sk-estimator:hover .sk-estimator-doc-link:hover,\n",
              ".sk-estimator-doc-link:hover,\n",
              "div.sk-label-container:hover .sk-estimator-doc-link:hover,\n",
              ".sk-estimator-doc-link:hover {\n",
              "  /* unfitted */\n",
              "  background-color: var(--sklearn-color-unfitted-level-3);\n",
              "  color: var(--sklearn-color-background);\n",
              "  text-decoration: none;\n",
              "}\n",
              "\n",
              "div.sk-estimator.fitted:hover .sk-estimator-doc-link.fitted:hover,\n",
              ".sk-estimator-doc-link.fitted:hover,\n",
              "div.sk-label-container:hover .sk-estimator-doc-link.fitted:hover,\n",
              ".sk-estimator-doc-link.fitted:hover {\n",
              "  /* fitted */\n",
              "  background-color: var(--sklearn-color-fitted-level-3);\n",
              "  color: var(--sklearn-color-background);\n",
              "  text-decoration: none;\n",
              "}\n",
              "\n",
              "/* Span, style for the box shown on hovering the info icon */\n",
              ".sk-estimator-doc-link span {\n",
              "  display: none;\n",
              "  z-index: 9999;\n",
              "  position: relative;\n",
              "  font-weight: normal;\n",
              "  right: .2ex;\n",
              "  padding: .5ex;\n",
              "  margin: .5ex;\n",
              "  width: min-content;\n",
              "  min-width: 20ex;\n",
              "  max-width: 50ex;\n",
              "  color: var(--sklearn-color-text);\n",
              "  box-shadow: 2pt 2pt 4pt #999;\n",
              "  /* unfitted */\n",
              "  background: var(--sklearn-color-unfitted-level-0);\n",
              "  border: .5pt solid var(--sklearn-color-unfitted-level-3);\n",
              "}\n",
              "\n",
              ".sk-estimator-doc-link.fitted span {\n",
              "  /* fitted */\n",
              "  background: var(--sklearn-color-fitted-level-0);\n",
              "  border: var(--sklearn-color-fitted-level-3);\n",
              "}\n",
              "\n",
              ".sk-estimator-doc-link:hover span {\n",
              "  display: block;\n",
              "}\n",
              "\n",
              "/* \"?\"-specific style due to the `<a>` HTML tag */\n",
              "\n",
              "#sk-container-id-2 a.estimator_doc_link {\n",
              "  float: right;\n",
              "  font-size: 1rem;\n",
              "  line-height: 1em;\n",
              "  font-family: monospace;\n",
              "  background-color: var(--sklearn-color-background);\n",
              "  border-radius: 1rem;\n",
              "  height: 1rem;\n",
              "  width: 1rem;\n",
              "  text-decoration: none;\n",
              "  /* unfitted */\n",
              "  color: var(--sklearn-color-unfitted-level-1);\n",
              "  border: var(--sklearn-color-unfitted-level-1) 1pt solid;\n",
              "}\n",
              "\n",
              "#sk-container-id-2 a.estimator_doc_link.fitted {\n",
              "  /* fitted */\n",
              "  border: var(--sklearn-color-fitted-level-1) 1pt solid;\n",
              "  color: var(--sklearn-color-fitted-level-1);\n",
              "}\n",
              "\n",
              "/* On hover */\n",
              "#sk-container-id-2 a.estimator_doc_link:hover {\n",
              "  /* unfitted */\n",
              "  background-color: var(--sklearn-color-unfitted-level-3);\n",
              "  color: var(--sklearn-color-background);\n",
              "  text-decoration: none;\n",
              "}\n",
              "\n",
              "#sk-container-id-2 a.estimator_doc_link.fitted:hover {\n",
              "  /* fitted */\n",
              "  background-color: var(--sklearn-color-fitted-level-3);\n",
              "}\n",
              "</style><div id=\"sk-container-id-2\" class=\"sk-top-container\"><div class=\"sk-text-repr-fallback\"><pre>VarianceThreshold()</pre><b>In a Jupyter environment, please rerun this cell to show the HTML representation or trust the notebook. <br />On GitHub, the HTML representation is unable to render, please try loading this page with nbviewer.org.</b></div><div class=\"sk-container\" hidden><div class=\"sk-item\"><div class=\"sk-estimator fitted sk-toggleable\"><input class=\"sk-toggleable__control sk-hidden--visually\" id=\"sk-estimator-id-2\" type=\"checkbox\" checked><label for=\"sk-estimator-id-2\" class=\"sk-toggleable__label fitted sk-toggleable__label-arrow\"><div><div>VarianceThreshold</div></div><div><a class=\"sk-estimator-doc-link fitted\" rel=\"noreferrer\" target=\"_blank\" href=\"https://scikit-learn.org/1.6/modules/generated/sklearn.feature_selection.VarianceThreshold.html\">?<span>Documentation for VarianceThreshold</span></a><span class=\"sk-estimator-doc-link fitted\">i<span>Fitted</span></span></div></label><div class=\"sk-toggleable__content fitted\"><pre>VarianceThreshold()</pre></div> </div></div></div></div>"
            ],
            "text/plain": [
              "VarianceThreshold()"
            ]
          },
          "execution_count": 70,
          "metadata": {},
          "output_type": "execute_result"
        }
      ],
      "source": [
        "# Zero‑variance filter\n",
        "feat_cols = train_full.columns.drop([\"ID\",\"LogP\"])\n",
        "vt = VarianceThreshold(0.0)\n",
        "vt.fit(train_full[feat_cols])"
      ]
    },
    {
      "cell_type": "code",
      "execution_count": 71,
      "metadata": {
        "colab": {
          "base_uri": "https://localhost:8080/"
        },
        "id": "Ge5iR2RSearc",
        "outputId": "1907aded-b9a1-41bc-cb66-4f96227f6e41"
      },
      "outputs": [
        {
          "name": "stdout",
          "output_type": "stream",
          "text": [
            "Removed zero‑var features: []\n"
          ]
        }
      ],
      "source": [
        "keep_cols    = feat_cols[vt.get_support()]\n",
        "removed_zero = feat_cols[~vt.get_support()].tolist()\n",
        "print(\"Removed zero‑var features:\", removed_zero)"
      ]
    },
    {
      "cell_type": "code",
      "execution_count": 72,
      "metadata": {
        "colab": {
          "base_uri": "https://localhost:8080/"
        },
        "id": "H8XO3-J7frp5",
        "outputId": "e03c154e-61c2-4238-ba90-5fbff7d34a73"
      },
      "outputs": [
        {
          "name": "stdout",
          "output_type": "stream",
          "text": [
            "After cleaning: (10898, 1154) (2630, 1153)\n"
          ]
        }
      ],
      "source": [
        "train_cl = pd.concat([train_full[[\"ID\",\"LogP\"]], train_full[keep_cols]], axis=1)\n",
        "test_cl  = pd.concat([test_full [[\"ID\"]]        , test_full [keep_cols]], axis=1)\n",
        "print(\"After cleaning:\", train_cl.shape, test_cl.shape)"
      ]
    },
    {
      "cell_type": "markdown",
      "metadata": {
        "id": "FRaD92h3e7HU"
      },
      "source": [
        "### V. Удаление сильно коррелированных признаков  \n",
        "  \n",
        "Убираем избыточные фичи с |corr| > 0.90."
      ]
    },
    {
      "cell_type": "code",
      "execution_count": 73,
      "metadata": {
        "colab": {
          "base_uri": "https://localhost:8080/"
        },
        "id": "tbbBBOYNqpLM",
        "outputId": "08e0ad2d-db0f-4254-b748-eb6c76073e0e"
      },
      "outputs": [
        {
          "name": "stdout",
          "output_type": "stream",
          "text": [
            "Dropping correlated: 1\n"
          ]
        }
      ],
      "source": [
        "corr_mat = train_cl.drop(columns=[\"ID\",\"LogP\"]).corr().abs()\n",
        "upper    = corr_mat.where(np.triu(np.ones(corr_mat.shape), k=1).astype(bool))\n",
        "to_drop  = [c for c in upper.columns if upper[c].gt(0.90).any()]\n",
        "print(\"Dropping correlated:\", len(to_drop))"
      ]
    },
    {
      "cell_type": "code",
      "execution_count": 74,
      "metadata": {},
      "outputs": [
        {
          "name": "stdout",
          "output_type": "stream",
          "text": [
            "After drop corr: (10898, 1153) (2630, 1152)\n"
          ]
        }
      ],
      "source": [
        "train_dc = train_cl.drop(columns=to_drop)\n",
        "test_dc  = test_cl .drop(columns=to_drop)\n",
        "print(\"After drop corr:\", train_dc.shape, test_dc.shape)"
      ]
    },
    {
      "cell_type": "markdown",
      "metadata": {
        "id": "V3pGT-0pq482"
      },
      "source": [
        "### VI. Лог‑преобразование и масштабирование  \n",
        "  \n",
        "- Выявляем фичи со skewness > 1.0.  \n",
        "- Применяем `log1p` (с `clip(lower=0)`).  \n",
        "- Масштабируем через `RobustScaler`."
      ]
    },
    {
      "cell_type": "code",
      "execution_count": 75,
      "metadata": {
        "id": "m7JIG4CRq9_e"
      },
      "outputs": [],
      "source": [
        "# Разделяем\n",
        "train_id = train_dc[\"ID\"]\n",
        "y_train  = train_dc[\"LogP\"]\n",
        "X_train  = train_dc.drop(columns=[\"ID\",\"LogP\"])\n",
        "X_test   = test_dc .drop(columns=[\"ID\"])"
      ]
    },
    {
      "cell_type": "code",
      "execution_count": 76,
      "metadata": {
        "colab": {
          "base_uri": "https://localhost:8080/"
        },
        "id": "zluY6C47rCbL",
        "outputId": "8085b598-f1af-4047-9492-761190cd5075"
      },
      "outputs": [
        {
          "name": "stdout",
          "output_type": "stream",
          "text": [
            "Log1p on: ['FP_0', 'FP_1', 'FP_2', 'FP_3', 'FP_4', 'FP_5', 'FP_6', 'FP_7', 'FP_8', 'FP_9', 'FP_10', 'FP_11', 'FP_12', 'FP_13', 'FP_14', 'FP_15', 'FP_16', 'FP_17', 'FP_18', 'FP_19', 'FP_20', 'FP_21', 'FP_22', 'FP_23', 'FP_24', 'FP_25', 'FP_26', 'FP_27', 'FP_28', 'FP_29', 'FP_30', 'FP_31', 'FP_32', 'FP_34', 'FP_35', 'FP_36', 'FP_37', 'FP_38', 'FP_39', 'FP_40', 'FP_41', 'FP_42', 'FP_43', 'FP_44', 'FP_45', 'FP_46', 'FP_47', 'FP_48', 'FP_49', 'FP_50', 'FP_51', 'FP_52', 'FP_53', 'FP_54', 'FP_55', 'FP_56', 'FP_57', 'FP_58', 'FP_59', 'FP_60', 'FP_61', 'FP_62', 'FP_63', 'FP_65', 'FP_66', 'FP_67', 'FP_68', 'FP_69', 'FP_70', 'FP_71', 'FP_72', 'FP_73', 'FP_74', 'FP_75', 'FP_76', 'FP_77', 'FP_78', 'FP_79', 'FP_81', 'FP_82', 'FP_83', 'FP_84', 'FP_85', 'FP_86', 'FP_87', 'FP_88', 'FP_89', 'FP_90', 'FP_91', 'FP_92', 'FP_93', 'FP_94', 'FP_95', 'FP_96', 'FP_97', 'FP_98', 'FP_99', 'FP_100', 'FP_101', 'FP_102', 'FP_103', 'FP_104', 'FP_105', 'FP_106', 'FP_107', 'FP_108', 'FP_109', 'FP_110', 'FP_111', 'FP_112', 'FP_113', 'FP_114', 'FP_115', 'FP_116', 'FP_117', 'FP_118', 'FP_119', 'FP_120', 'FP_121', 'FP_122', 'FP_123', 'FP_124', 'FP_125', 'FP_126', 'FP_127', 'FP_129', 'FP_130', 'FP_131', 'FP_132', 'FP_133', 'FP_134', 'FP_135', 'FP_136', 'FP_137', 'FP_138', 'FP_139', 'FP_140', 'FP_141', 'FP_142', 'FP_143', 'FP_144', 'FP_145', 'FP_146', 'FP_147', 'FP_148', 'FP_149', 'FP_150', 'FP_151', 'FP_152', 'FP_153', 'FP_154', 'FP_155', 'FP_156', 'FP_157', 'FP_158', 'FP_159', 'FP_160', 'FP_161', 'FP_162', 'FP_163', 'FP_164', 'FP_165', 'FP_166', 'FP_167', 'FP_168', 'FP_169', 'FP_170', 'FP_171', 'FP_172', 'FP_173', 'FP_174', 'FP_176', 'FP_177', 'FP_178', 'FP_179', 'FP_180', 'FP_181', 'FP_182', 'FP_183', 'FP_184', 'FP_185', 'FP_186', 'FP_187', 'FP_188', 'FP_189', 'FP_190', 'FP_191', 'FP_192', 'FP_193', 'FP_194', 'FP_195', 'FP_196', 'FP_197', 'FP_198', 'FP_199', 'FP_200', 'FP_201', 'FP_202', 'FP_203', 'FP_204', 'FP_205', 'FP_206', 'FP_207', 'FP_208', 'FP_209', 'FP_210', 'FP_211', 'FP_212', 'FP_213', 'FP_214', 'FP_215', 'FP_216', 'FP_217', 'FP_218', 'FP_219', 'FP_220', 'FP_221', 'FP_222', 'FP_223', 'FP_224', 'FP_225', 'FP_226', 'FP_227', 'FP_228', 'FP_229', 'FP_230', 'FP_231', 'FP_232', 'FP_233', 'FP_234', 'FP_235', 'FP_236', 'FP_237', 'FP_238', 'FP_239', 'FP_240', 'FP_241', 'FP_242', 'FP_243', 'FP_244', 'FP_245', 'FP_246', 'FP_247', 'FP_248', 'FP_249', 'FP_250', 'FP_251', 'FP_252', 'FP_253', 'FP_254', 'FP_255', 'FP_256', 'FP_257', 'FP_258', 'FP_259', 'FP_260', 'FP_261', 'FP_262', 'FP_263', 'FP_264', 'FP_265', 'FP_266', 'FP_267', 'FP_268', 'FP_269', 'FP_270', 'FP_271', 'FP_272', 'FP_273', 'FP_274', 'FP_275', 'FP_276', 'FP_277', 'FP_278', 'FP_279', 'FP_280', 'FP_281', 'FP_282', 'FP_283', 'FP_284', 'FP_285', 'FP_286', 'FP_287', 'FP_288', 'FP_289', 'FP_290', 'FP_291', 'FP_292', 'FP_293', 'FP_294', 'FP_295', 'FP_296', 'FP_297', 'FP_298', 'FP_299', 'FP_300', 'FP_301', 'FP_302', 'FP_303', 'FP_304', 'FP_305', 'FP_306', 'FP_307', 'FP_308', 'FP_309', 'FP_310', 'FP_311', 'FP_312', 'FP_313', 'FP_314', 'FP_315', 'FP_316', 'FP_317', 'FP_318', 'FP_319', 'FP_320', 'FP_321', 'FP_322', 'FP_323', 'FP_324', 'FP_325', 'FP_326', 'FP_327', 'FP_328', 'FP_329', 'FP_330', 'FP_331', 'FP_332', 'FP_333', 'FP_334', 'FP_335', 'FP_336', 'FP_337', 'FP_338', 'FP_339', 'FP_340', 'FP_341', 'FP_342', 'FP_343', 'FP_344', 'FP_345', 'FP_346', 'FP_347', 'FP_348', 'FP_349', 'FP_350', 'FP_351', 'FP_352', 'FP_353', 'FP_354', 'FP_355', 'FP_356', 'FP_357', 'FP_358', 'FP_359', 'FP_360', 'FP_361', 'FP_362', 'FP_363', 'FP_364', 'FP_365', 'FP_366', 'FP_367', 'FP_368', 'FP_369', 'FP_370', 'FP_371', 'FP_372', 'FP_373', 'FP_374', 'FP_375', 'FP_376', 'FP_377', 'FP_378', 'FP_379', 'FP_380', 'FP_381', 'FP_382', 'FP_383', 'FP_384', 'FP_385', 'FP_386', 'FP_387', 'FP_388', 'FP_389', 'FP_390', 'FP_391', 'FP_392', 'FP_393', 'FP_394', 'FP_395', 'FP_396', 'FP_397', 'FP_398', 'FP_399', 'FP_400', 'FP_401', 'FP_402', 'FP_403', 'FP_404', 'FP_405', 'FP_406', 'FP_407', 'FP_408', 'FP_409', 'FP_410', 'FP_411', 'FP_412', 'FP_413', 'FP_414', 'FP_415', 'FP_416', 'FP_417', 'FP_418', 'FP_419', 'FP_420', 'FP_421', 'FP_422', 'FP_423', 'FP_424', 'FP_425', 'FP_426', 'FP_427', 'FP_428', 'FP_429', 'FP_430', 'FP_431', 'FP_432', 'FP_433', 'FP_434', 'FP_435', 'FP_436', 'FP_437', 'FP_438', 'FP_439', 'FP_440', 'FP_441', 'FP_442', 'FP_443', 'FP_444', 'FP_445', 'FP_446', 'FP_447', 'FP_448', 'FP_449', 'FP_450', 'FP_451', 'FP_452', 'FP_453', 'FP_454', 'FP_455', 'FP_456', 'FP_457', 'FP_458', 'FP_459', 'FP_460', 'FP_461', 'FP_462', 'FP_463', 'FP_464', 'FP_465', 'FP_466', 'FP_467', 'FP_468', 'FP_469', 'FP_470', 'FP_471', 'FP_472', 'FP_473', 'FP_474', 'FP_475', 'FP_476', 'FP_477', 'FP_478', 'FP_479', 'FP_480', 'FP_481', 'FP_482', 'FP_483', 'FP_484', 'FP_485', 'FP_486', 'FP_487', 'FP_488', 'FP_489', 'FP_490', 'FP_491', 'FP_492', 'FP_493', 'FP_494', 'FP_495', 'FP_496', 'FP_497', 'FP_498', 'FP_499', 'FP_500', 'FP_501', 'FP_502', 'FP_503', 'FP_504', 'FP_505', 'FP_506', 'FP_507', 'FP_508', 'FP_509', 'FP_510', 'FP_511', 'FP_512', 'FP_513', 'FP_514', 'FP_515', 'FP_516', 'FP_517', 'FP_518', 'FP_519', 'FP_520', 'FP_521', 'FP_522', 'FP_523', 'FP_524', 'FP_525', 'FP_526', 'FP_527', 'FP_528', 'FP_529', 'FP_530', 'FP_531', 'FP_532', 'FP_533', 'FP_534', 'FP_535', 'FP_536', 'FP_537', 'FP_538', 'FP_539', 'FP_540', 'FP_541', 'FP_542', 'FP_543', 'FP_544', 'FP_545', 'FP_546', 'FP_547', 'FP_548', 'FP_549', 'FP_550', 'FP_551', 'FP_552', 'FP_553', 'FP_554', 'FP_555', 'FP_556', 'FP_557', 'FP_558', 'FP_559', 'FP_560', 'FP_561', 'FP_562', 'FP_563', 'FP_564', 'FP_565', 'FP_566', 'FP_567', 'FP_568', 'FP_569', 'FP_570', 'FP_571', 'FP_572', 'FP_573', 'FP_574', 'FP_575', 'FP_576', 'FP_577', 'FP_578', 'FP_579', 'FP_580', 'FP_581', 'FP_582', 'FP_583', 'FP_584', 'FP_585', 'FP_586', 'FP_587', 'FP_588', 'FP_589', 'FP_590', 'FP_591', 'FP_592', 'FP_593', 'FP_594', 'FP_595', 'FP_596', 'FP_597', 'FP_598', 'FP_599', 'FP_600', 'FP_601', 'FP_602', 'FP_603', 'FP_604', 'FP_605', 'FP_606', 'FP_607', 'FP_608', 'FP_609', 'FP_610', 'FP_611', 'FP_612', 'FP_613', 'FP_614', 'FP_615', 'FP_616', 'FP_617', 'FP_618', 'FP_619', 'FP_620', 'FP_621', 'FP_622', 'FP_623', 'FP_624', 'FP_625', 'FP_626', 'FP_627', 'FP_628', 'FP_629', 'FP_630', 'FP_631', 'FP_632', 'FP_633', 'FP_634', 'FP_635', 'FP_636', 'FP_637', 'FP_638', 'FP_639', 'FP_640', 'FP_641', 'FP_642', 'FP_643', 'FP_644', 'FP_645', 'FP_646', 'FP_647', 'FP_648', 'FP_649', 'FP_651', 'FP_652', 'FP_653', 'FP_654', 'FP_655', 'FP_656', 'FP_657', 'FP_658', 'FP_659', 'FP_660', 'FP_661', 'FP_662', 'FP_663', 'FP_664', 'FP_665', 'FP_666', 'FP_667', 'FP_668', 'FP_669', 'FP_670', 'FP_671', 'FP_672', 'FP_673', 'FP_674', 'FP_675', 'FP_676', 'FP_677', 'FP_678', 'FP_679', 'FP_680', 'FP_681', 'FP_682', 'FP_683', 'FP_684', 'FP_685', 'FP_686', 'FP_687', 'FP_688', 'FP_689', 'FP_690', 'FP_691', 'FP_692', 'FP_693', 'FP_694', 'FP_696', 'FP_697', 'FP_698', 'FP_699', 'FP_700', 'FP_701', 'FP_702', 'FP_703', 'FP_704', 'FP_705', 'FP_706', 'FP_707', 'FP_708', 'FP_709', 'FP_710', 'FP_711', 'FP_712', 'FP_713', 'FP_714', 'FP_715', 'FP_716', 'FP_717', 'FP_718', 'FP_719', 'FP_720', 'FP_721', 'FP_722', 'FP_723', 'FP_724', 'FP_725', 'FP_727', 'FP_728', 'FP_729', 'FP_730', 'FP_731', 'FP_732', 'FP_733', 'FP_734', 'FP_735', 'FP_736', 'FP_737', 'FP_738', 'FP_739', 'FP_740', 'FP_741', 'FP_742', 'FP_743', 'FP_744', 'FP_745', 'FP_746', 'FP_747', 'FP_748', 'FP_749', 'FP_750', 'FP_751', 'FP_752', 'FP_753', 'FP_754', 'FP_755', 'FP_756', 'FP_757', 'FP_758', 'FP_759', 'FP_760', 'FP_761', 'FP_762', 'FP_763', 'FP_764', 'FP_765', 'FP_766', 'FP_767', 'FP_768', 'FP_769', 'FP_770', 'FP_771', 'FP_772', 'FP_773', 'FP_774', 'FP_775', 'FP_776', 'FP_777', 'FP_778', 'FP_779', 'FP_780', 'FP_781', 'FP_782', 'FP_783', 'FP_784', 'FP_785', 'FP_786', 'FP_787', 'FP_788', 'FP_789', 'FP_790', 'FP_791', 'FP_792', 'FP_793', 'FP_794', 'FP_795', 'FP_796', 'FP_797', 'FP_798', 'FP_799', 'FP_800', 'FP_801', 'FP_802', 'FP_803', 'FP_804', 'FP_805', 'FP_806', 'FP_808', 'FP_809', 'FP_810', 'FP_811', 'FP_812', 'FP_813', 'FP_814', 'FP_815', 'FP_816', 'FP_817', 'FP_818', 'FP_819', 'FP_820', 'FP_821', 'FP_822', 'FP_823', 'FP_824', 'FP_825', 'FP_826', 'FP_827', 'FP_828', 'FP_829', 'FP_830', 'FP_831', 'FP_832', 'FP_833', 'FP_834', 'FP_835', 'FP_836', 'FP_837', 'FP_838', 'FP_839', 'FP_840', 'FP_841', 'FP_842', 'FP_843', 'FP_844', 'FP_845', 'FP_846', 'FP_847', 'FP_848', 'FP_849', 'FP_850', 'FP_851', 'FP_852', 'FP_853', 'FP_854', 'FP_855', 'FP_856', 'FP_857', 'FP_858', 'FP_859', 'FP_860', 'FP_861', 'FP_862', 'FP_863', 'FP_864', 'FP_865', 'FP_866', 'FP_867', 'FP_868', 'FP_869', 'FP_870', 'FP_871', 'FP_872', 'FP_873', 'FP_874', 'FP_876', 'FP_877', 'FP_878', 'FP_879', 'FP_880', 'FP_881', 'FP_882', 'FP_883', 'FP_884', 'FP_885', 'FP_886', 'FP_887', 'FP_888', 'FP_889', 'FP_890', 'FP_891', 'FP_892', 'FP_894', 'FP_895', 'FP_896', 'FP_897', 'FP_898', 'FP_899', 'FP_900', 'FP_901', 'FP_902', 'FP_903', 'FP_904', 'FP_905', 'FP_906', 'FP_907', 'FP_908', 'FP_909', 'FP_910', 'FP_911', 'FP_912', 'FP_913', 'FP_914', 'FP_915', 'FP_916', 'FP_917', 'FP_918', 'FP_919', 'FP_920', 'FP_921', 'FP_922', 'FP_923', 'FP_924', 'FP_925', 'FP_926', 'FP_927', 'FP_928', 'FP_929', 'FP_930', 'FP_931', 'FP_932', 'FP_933', 'FP_934', 'FP_935', 'FP_936', 'FP_937', 'FP_938', 'FP_940', 'FP_941', 'FP_942', 'FP_943', 'FP_944', 'FP_945', 'FP_946', 'FP_947', 'FP_948', 'FP_949', 'FP_950', 'FP_951', 'FP_952', 'FP_953', 'FP_954', 'FP_955', 'FP_956', 'FP_957', 'FP_958', 'FP_959', 'FP_960', 'FP_961', 'FP_962', 'FP_963', 'FP_964', 'FP_965', 'FP_966', 'FP_967', 'FP_968', 'FP_969', 'FP_970', 'FP_971', 'FP_972', 'FP_973', 'FP_974', 'FP_975', 'FP_976', 'FP_977', 'FP_978', 'FP_979', 'FP_980', 'FP_981', 'FP_982', 'FP_983', 'FP_984', 'FP_985', 'FP_986', 'FP_987', 'FP_988', 'FP_989', 'FP_990', 'FP_991', 'FP_992', 'FP_993', 'FP_994', 'FP_995', 'FP_996', 'FP_997', 'FP_998', 'FP_999', 'FP_1000', 'FP_1001', 'FP_1002', 'FP_1003', 'FP_1004', 'FP_1005', 'FP_1006', 'FP_1007', 'FP_1008', 'FP_1009', 'FP_1010', 'FP_1011', 'FP_1012', 'FP_1013', 'FP_1014', 'FP_1015', 'FP_1016', 'FP_1017', 'FP_1018', 'FP_1019', 'FP_1020', 'FP_1021', 'FP_1022', 'FP_1023', 'embed_pca_0', 'embed_pca_34', 'embed_pca_35', 'embed_pca_45', 'embed_pca_46', 'embed_pca_64']\n"
          ]
        }
      ],
      "source": [
        "# Логируем сильно скошенные >1.0\n",
        "skews  = X_train.skew().abs()\n",
        "to_log = skews[skews > 1.0].index.tolist()\n",
        "print(\"Log1p on:\", to_log)"
      ]
    },
    {
      "cell_type": "code",
      "execution_count": 77,
      "metadata": {},
      "outputs": [],
      "source": [
        "for c in to_log:\n",
        "    X_train[c] = np.log1p(X_train[c].clip(lower=0))\n",
        "    X_test [c] = np.log1p(X_test [c].clip(lower=0))"
      ]
    },
    {
      "cell_type": "code",
      "execution_count": 78,
      "metadata": {
        "id": "SDxn8P-OrGkt"
      },
      "outputs": [],
      "source": [
        "# RobustScaler\n",
        "rs = RobustScaler().fit(X_train)\n",
        "X_train_s = pd.DataFrame(rs.transform(X_train), columns=X_train.columns)\n",
        "X_test_s  = pd.DataFrame(rs.transform(X_test),  columns=X_test.columns)"
      ]
    },
    {
      "cell_type": "code",
      "execution_count": 79,
      "metadata": {
        "id": "qCGrvrmVrMcP"
      },
      "outputs": [
        {
          "name": "stdout",
          "output_type": "stream",
          "text": [
            "After log+scale: (10898, 1153) (2630, 1152)\n"
          ]
        }
      ],
      "source": [
        "train_pre = pd.concat([train_id, X_train_s, y_train], axis=1)\n",
        "test_pre  = pd.concat([test_dc[[\"ID\"]], X_test_s], axis=1)\n",
        "print(\"After log+scale:\", train_pre.shape, test_pre.shape)"
      ]
    },
    {
      "cell_type": "markdown",
      "metadata": {
        "id": "i7nklk3Dr1t5"
      },
      "source": [
        "### VII. Анализ важности признаков и отбор  \n",
        "  \n",
        "1. Обучим RandomForest на полном наборе.\n",
        "\n",
        "2. Вычислим Permutation Importance (чтобы увидеть не только встроенную «важность» дерева, но и насколько падёт качество при «перемешивании» каждого признака).\n",
        "\n",
        "3. Выберем порог:\n",
        "\n",
        "Уберём фичи с отрицательной или близкой к нулю важностью.\n",
        "\n",
        "Оставим, скажем, топ‑100 или все > 0.001 по mean importance."
      ]
    },
    {
      "cell_type": "code",
      "execution_count": 80,
      "metadata": {
        "id": "VNn9cNG3t8ju"
      },
      "outputs": [],
      "source": [
        "from sklearn.ensemble import RandomForestRegressor\n",
        "from sklearn.inspection import permutation_importance"
      ]
    },
    {
      "cell_type": "code",
      "execution_count": 81,
      "metadata": {
        "id": "mrASbg5NuBk9"
      },
      "outputs": [],
      "source": [
        "X = train_pre.drop(columns=[\"ID\",\"LogP\"])\n",
        "y = train_pre[\"LogP\"]"
      ]
    },
    {
      "cell_type": "code",
      "execution_count": 82,
      "metadata": {
        "colab": {
          "base_uri": "https://localhost:8080/",
          "height": 97
        },
        "id": "et8tiRFPuEPL",
        "outputId": "f8be9d54-9e51-47c3-f2f3-58e9e4470be7"
      },
      "outputs": [
        {
          "data": {
            "text/html": [
              "<style>#sk-container-id-3 {\n",
              "  /* Definition of color scheme common for light and dark mode */\n",
              "  --sklearn-color-text: #000;\n",
              "  --sklearn-color-text-muted: #666;\n",
              "  --sklearn-color-line: gray;\n",
              "  /* Definition of color scheme for unfitted estimators */\n",
              "  --sklearn-color-unfitted-level-0: #fff5e6;\n",
              "  --sklearn-color-unfitted-level-1: #f6e4d2;\n",
              "  --sklearn-color-unfitted-level-2: #ffe0b3;\n",
              "  --sklearn-color-unfitted-level-3: chocolate;\n",
              "  /* Definition of color scheme for fitted estimators */\n",
              "  --sklearn-color-fitted-level-0: #f0f8ff;\n",
              "  --sklearn-color-fitted-level-1: #d4ebff;\n",
              "  --sklearn-color-fitted-level-2: #b3dbfd;\n",
              "  --sklearn-color-fitted-level-3: cornflowerblue;\n",
              "\n",
              "  /* Specific color for light theme */\n",
              "  --sklearn-color-text-on-default-background: var(--sg-text-color, var(--theme-code-foreground, var(--jp-content-font-color1, black)));\n",
              "  --sklearn-color-background: var(--sg-background-color, var(--theme-background, var(--jp-layout-color0, white)));\n",
              "  --sklearn-color-border-box: var(--sg-text-color, var(--theme-code-foreground, var(--jp-content-font-color1, black)));\n",
              "  --sklearn-color-icon: #696969;\n",
              "\n",
              "  @media (prefers-color-scheme: dark) {\n",
              "    /* Redefinition of color scheme for dark theme */\n",
              "    --sklearn-color-text-on-default-background: var(--sg-text-color, var(--theme-code-foreground, var(--jp-content-font-color1, white)));\n",
              "    --sklearn-color-background: var(--sg-background-color, var(--theme-background, var(--jp-layout-color0, #111)));\n",
              "    --sklearn-color-border-box: var(--sg-text-color, var(--theme-code-foreground, var(--jp-content-font-color1, white)));\n",
              "    --sklearn-color-icon: #878787;\n",
              "  }\n",
              "}\n",
              "\n",
              "#sk-container-id-3 {\n",
              "  color: var(--sklearn-color-text);\n",
              "}\n",
              "\n",
              "#sk-container-id-3 pre {\n",
              "  padding: 0;\n",
              "}\n",
              "\n",
              "#sk-container-id-3 input.sk-hidden--visually {\n",
              "  border: 0;\n",
              "  clip: rect(1px 1px 1px 1px);\n",
              "  clip: rect(1px, 1px, 1px, 1px);\n",
              "  height: 1px;\n",
              "  margin: -1px;\n",
              "  overflow: hidden;\n",
              "  padding: 0;\n",
              "  position: absolute;\n",
              "  width: 1px;\n",
              "}\n",
              "\n",
              "#sk-container-id-3 div.sk-dashed-wrapped {\n",
              "  border: 1px dashed var(--sklearn-color-line);\n",
              "  margin: 0 0.4em 0.5em 0.4em;\n",
              "  box-sizing: border-box;\n",
              "  padding-bottom: 0.4em;\n",
              "  background-color: var(--sklearn-color-background);\n",
              "}\n",
              "\n",
              "#sk-container-id-3 div.sk-container {\n",
              "  /* jupyter's `normalize.less` sets `[hidden] { display: none; }`\n",
              "     but bootstrap.min.css set `[hidden] { display: none !important; }`\n",
              "     so we also need the `!important` here to be able to override the\n",
              "     default hidden behavior on the sphinx rendered scikit-learn.org.\n",
              "     See: https://github.com/scikit-learn/scikit-learn/issues/21755 */\n",
              "  display: inline-block !important;\n",
              "  position: relative;\n",
              "}\n",
              "\n",
              "#sk-container-id-3 div.sk-text-repr-fallback {\n",
              "  display: none;\n",
              "}\n",
              "\n",
              "div.sk-parallel-item,\n",
              "div.sk-serial,\n",
              "div.sk-item {\n",
              "  /* draw centered vertical line to link estimators */\n",
              "  background-image: linear-gradient(var(--sklearn-color-text-on-default-background), var(--sklearn-color-text-on-default-background));\n",
              "  background-size: 2px 100%;\n",
              "  background-repeat: no-repeat;\n",
              "  background-position: center center;\n",
              "}\n",
              "\n",
              "/* Parallel-specific style estimator block */\n",
              "\n",
              "#sk-container-id-3 div.sk-parallel-item::after {\n",
              "  content: \"\";\n",
              "  width: 100%;\n",
              "  border-bottom: 2px solid var(--sklearn-color-text-on-default-background);\n",
              "  flex-grow: 1;\n",
              "}\n",
              "\n",
              "#sk-container-id-3 div.sk-parallel {\n",
              "  display: flex;\n",
              "  align-items: stretch;\n",
              "  justify-content: center;\n",
              "  background-color: var(--sklearn-color-background);\n",
              "  position: relative;\n",
              "}\n",
              "\n",
              "#sk-container-id-3 div.sk-parallel-item {\n",
              "  display: flex;\n",
              "  flex-direction: column;\n",
              "}\n",
              "\n",
              "#sk-container-id-3 div.sk-parallel-item:first-child::after {\n",
              "  align-self: flex-end;\n",
              "  width: 50%;\n",
              "}\n",
              "\n",
              "#sk-container-id-3 div.sk-parallel-item:last-child::after {\n",
              "  align-self: flex-start;\n",
              "  width: 50%;\n",
              "}\n",
              "\n",
              "#sk-container-id-3 div.sk-parallel-item:only-child::after {\n",
              "  width: 0;\n",
              "}\n",
              "\n",
              "/* Serial-specific style estimator block */\n",
              "\n",
              "#sk-container-id-3 div.sk-serial {\n",
              "  display: flex;\n",
              "  flex-direction: column;\n",
              "  align-items: center;\n",
              "  background-color: var(--sklearn-color-background);\n",
              "  padding-right: 1em;\n",
              "  padding-left: 1em;\n",
              "}\n",
              "\n",
              "\n",
              "/* Toggleable style: style used for estimator/Pipeline/ColumnTransformer box that is\n",
              "clickable and can be expanded/collapsed.\n",
              "- Pipeline and ColumnTransformer use this feature and define the default style\n",
              "- Estimators will overwrite some part of the style using the `sk-estimator` class\n",
              "*/\n",
              "\n",
              "/* Pipeline and ColumnTransformer style (default) */\n",
              "\n",
              "#sk-container-id-3 div.sk-toggleable {\n",
              "  /* Default theme specific background. It is overwritten whether we have a\n",
              "  specific estimator or a Pipeline/ColumnTransformer */\n",
              "  background-color: var(--sklearn-color-background);\n",
              "}\n",
              "\n",
              "/* Toggleable label */\n",
              "#sk-container-id-3 label.sk-toggleable__label {\n",
              "  cursor: pointer;\n",
              "  display: flex;\n",
              "  width: 100%;\n",
              "  margin-bottom: 0;\n",
              "  padding: 0.5em;\n",
              "  box-sizing: border-box;\n",
              "  text-align: center;\n",
              "  align-items: start;\n",
              "  justify-content: space-between;\n",
              "  gap: 0.5em;\n",
              "}\n",
              "\n",
              "#sk-container-id-3 label.sk-toggleable__label .caption {\n",
              "  font-size: 0.6rem;\n",
              "  font-weight: lighter;\n",
              "  color: var(--sklearn-color-text-muted);\n",
              "}\n",
              "\n",
              "#sk-container-id-3 label.sk-toggleable__label-arrow:before {\n",
              "  /* Arrow on the left of the label */\n",
              "  content: \"▸\";\n",
              "  float: left;\n",
              "  margin-right: 0.25em;\n",
              "  color: var(--sklearn-color-icon);\n",
              "}\n",
              "\n",
              "#sk-container-id-3 label.sk-toggleable__label-arrow:hover:before {\n",
              "  color: var(--sklearn-color-text);\n",
              "}\n",
              "\n",
              "/* Toggleable content - dropdown */\n",
              "\n",
              "#sk-container-id-3 div.sk-toggleable__content {\n",
              "  max-height: 0;\n",
              "  max-width: 0;\n",
              "  overflow: hidden;\n",
              "  text-align: left;\n",
              "  /* unfitted */\n",
              "  background-color: var(--sklearn-color-unfitted-level-0);\n",
              "}\n",
              "\n",
              "#sk-container-id-3 div.sk-toggleable__content.fitted {\n",
              "  /* fitted */\n",
              "  background-color: var(--sklearn-color-fitted-level-0);\n",
              "}\n",
              "\n",
              "#sk-container-id-3 div.sk-toggleable__content pre {\n",
              "  margin: 0.2em;\n",
              "  border-radius: 0.25em;\n",
              "  color: var(--sklearn-color-text);\n",
              "  /* unfitted */\n",
              "  background-color: var(--sklearn-color-unfitted-level-0);\n",
              "}\n",
              "\n",
              "#sk-container-id-3 div.sk-toggleable__content.fitted pre {\n",
              "  /* unfitted */\n",
              "  background-color: var(--sklearn-color-fitted-level-0);\n",
              "}\n",
              "\n",
              "#sk-container-id-3 input.sk-toggleable__control:checked~div.sk-toggleable__content {\n",
              "  /* Expand drop-down */\n",
              "  max-height: 200px;\n",
              "  max-width: 100%;\n",
              "  overflow: auto;\n",
              "}\n",
              "\n",
              "#sk-container-id-3 input.sk-toggleable__control:checked~label.sk-toggleable__label-arrow:before {\n",
              "  content: \"▾\";\n",
              "}\n",
              "\n",
              "/* Pipeline/ColumnTransformer-specific style */\n",
              "\n",
              "#sk-container-id-3 div.sk-label input.sk-toggleable__control:checked~label.sk-toggleable__label {\n",
              "  color: var(--sklearn-color-text);\n",
              "  background-color: var(--sklearn-color-unfitted-level-2);\n",
              "}\n",
              "\n",
              "#sk-container-id-3 div.sk-label.fitted input.sk-toggleable__control:checked~label.sk-toggleable__label {\n",
              "  background-color: var(--sklearn-color-fitted-level-2);\n",
              "}\n",
              "\n",
              "/* Estimator-specific style */\n",
              "\n",
              "/* Colorize estimator box */\n",
              "#sk-container-id-3 div.sk-estimator input.sk-toggleable__control:checked~label.sk-toggleable__label {\n",
              "  /* unfitted */\n",
              "  background-color: var(--sklearn-color-unfitted-level-2);\n",
              "}\n",
              "\n",
              "#sk-container-id-3 div.sk-estimator.fitted input.sk-toggleable__control:checked~label.sk-toggleable__label {\n",
              "  /* fitted */\n",
              "  background-color: var(--sklearn-color-fitted-level-2);\n",
              "}\n",
              "\n",
              "#sk-container-id-3 div.sk-label label.sk-toggleable__label,\n",
              "#sk-container-id-3 div.sk-label label {\n",
              "  /* The background is the default theme color */\n",
              "  color: var(--sklearn-color-text-on-default-background);\n",
              "}\n",
              "\n",
              "/* On hover, darken the color of the background */\n",
              "#sk-container-id-3 div.sk-label:hover label.sk-toggleable__label {\n",
              "  color: var(--sklearn-color-text);\n",
              "  background-color: var(--sklearn-color-unfitted-level-2);\n",
              "}\n",
              "\n",
              "/* Label box, darken color on hover, fitted */\n",
              "#sk-container-id-3 div.sk-label.fitted:hover label.sk-toggleable__label.fitted {\n",
              "  color: var(--sklearn-color-text);\n",
              "  background-color: var(--sklearn-color-fitted-level-2);\n",
              "}\n",
              "\n",
              "/* Estimator label */\n",
              "\n",
              "#sk-container-id-3 div.sk-label label {\n",
              "  font-family: monospace;\n",
              "  font-weight: bold;\n",
              "  display: inline-block;\n",
              "  line-height: 1.2em;\n",
              "}\n",
              "\n",
              "#sk-container-id-3 div.sk-label-container {\n",
              "  text-align: center;\n",
              "}\n",
              "\n",
              "/* Estimator-specific */\n",
              "#sk-container-id-3 div.sk-estimator {\n",
              "  font-family: monospace;\n",
              "  border: 1px dotted var(--sklearn-color-border-box);\n",
              "  border-radius: 0.25em;\n",
              "  box-sizing: border-box;\n",
              "  margin-bottom: 0.5em;\n",
              "  /* unfitted */\n",
              "  background-color: var(--sklearn-color-unfitted-level-0);\n",
              "}\n",
              "\n",
              "#sk-container-id-3 div.sk-estimator.fitted {\n",
              "  /* fitted */\n",
              "  background-color: var(--sklearn-color-fitted-level-0);\n",
              "}\n",
              "\n",
              "/* on hover */\n",
              "#sk-container-id-3 div.sk-estimator:hover {\n",
              "  /* unfitted */\n",
              "  background-color: var(--sklearn-color-unfitted-level-2);\n",
              "}\n",
              "\n",
              "#sk-container-id-3 div.sk-estimator.fitted:hover {\n",
              "  /* fitted */\n",
              "  background-color: var(--sklearn-color-fitted-level-2);\n",
              "}\n",
              "\n",
              "/* Specification for estimator info (e.g. \"i\" and \"?\") */\n",
              "\n",
              "/* Common style for \"i\" and \"?\" */\n",
              "\n",
              ".sk-estimator-doc-link,\n",
              "a:link.sk-estimator-doc-link,\n",
              "a:visited.sk-estimator-doc-link {\n",
              "  float: right;\n",
              "  font-size: smaller;\n",
              "  line-height: 1em;\n",
              "  font-family: monospace;\n",
              "  background-color: var(--sklearn-color-background);\n",
              "  border-radius: 1em;\n",
              "  height: 1em;\n",
              "  width: 1em;\n",
              "  text-decoration: none !important;\n",
              "  margin-left: 0.5em;\n",
              "  text-align: center;\n",
              "  /* unfitted */\n",
              "  border: var(--sklearn-color-unfitted-level-1) 1pt solid;\n",
              "  color: var(--sklearn-color-unfitted-level-1);\n",
              "}\n",
              "\n",
              ".sk-estimator-doc-link.fitted,\n",
              "a:link.sk-estimator-doc-link.fitted,\n",
              "a:visited.sk-estimator-doc-link.fitted {\n",
              "  /* fitted */\n",
              "  border: var(--sklearn-color-fitted-level-1) 1pt solid;\n",
              "  color: var(--sklearn-color-fitted-level-1);\n",
              "}\n",
              "\n",
              "/* On hover */\n",
              "div.sk-estimator:hover .sk-estimator-doc-link:hover,\n",
              ".sk-estimator-doc-link:hover,\n",
              "div.sk-label-container:hover .sk-estimator-doc-link:hover,\n",
              ".sk-estimator-doc-link:hover {\n",
              "  /* unfitted */\n",
              "  background-color: var(--sklearn-color-unfitted-level-3);\n",
              "  color: var(--sklearn-color-background);\n",
              "  text-decoration: none;\n",
              "}\n",
              "\n",
              "div.sk-estimator.fitted:hover .sk-estimator-doc-link.fitted:hover,\n",
              ".sk-estimator-doc-link.fitted:hover,\n",
              "div.sk-label-container:hover .sk-estimator-doc-link.fitted:hover,\n",
              ".sk-estimator-doc-link.fitted:hover {\n",
              "  /* fitted */\n",
              "  background-color: var(--sklearn-color-fitted-level-3);\n",
              "  color: var(--sklearn-color-background);\n",
              "  text-decoration: none;\n",
              "}\n",
              "\n",
              "/* Span, style for the box shown on hovering the info icon */\n",
              ".sk-estimator-doc-link span {\n",
              "  display: none;\n",
              "  z-index: 9999;\n",
              "  position: relative;\n",
              "  font-weight: normal;\n",
              "  right: .2ex;\n",
              "  padding: .5ex;\n",
              "  margin: .5ex;\n",
              "  width: min-content;\n",
              "  min-width: 20ex;\n",
              "  max-width: 50ex;\n",
              "  color: var(--sklearn-color-text);\n",
              "  box-shadow: 2pt 2pt 4pt #999;\n",
              "  /* unfitted */\n",
              "  background: var(--sklearn-color-unfitted-level-0);\n",
              "  border: .5pt solid var(--sklearn-color-unfitted-level-3);\n",
              "}\n",
              "\n",
              ".sk-estimator-doc-link.fitted span {\n",
              "  /* fitted */\n",
              "  background: var(--sklearn-color-fitted-level-0);\n",
              "  border: var(--sklearn-color-fitted-level-3);\n",
              "}\n",
              "\n",
              ".sk-estimator-doc-link:hover span {\n",
              "  display: block;\n",
              "}\n",
              "\n",
              "/* \"?\"-specific style due to the `<a>` HTML tag */\n",
              "\n",
              "#sk-container-id-3 a.estimator_doc_link {\n",
              "  float: right;\n",
              "  font-size: 1rem;\n",
              "  line-height: 1em;\n",
              "  font-family: monospace;\n",
              "  background-color: var(--sklearn-color-background);\n",
              "  border-radius: 1rem;\n",
              "  height: 1rem;\n",
              "  width: 1rem;\n",
              "  text-decoration: none;\n",
              "  /* unfitted */\n",
              "  color: var(--sklearn-color-unfitted-level-1);\n",
              "  border: var(--sklearn-color-unfitted-level-1) 1pt solid;\n",
              "}\n",
              "\n",
              "#sk-container-id-3 a.estimator_doc_link.fitted {\n",
              "  /* fitted */\n",
              "  border: var(--sklearn-color-fitted-level-1) 1pt solid;\n",
              "  color: var(--sklearn-color-fitted-level-1);\n",
              "}\n",
              "\n",
              "/* On hover */\n",
              "#sk-container-id-3 a.estimator_doc_link:hover {\n",
              "  /* unfitted */\n",
              "  background-color: var(--sklearn-color-unfitted-level-3);\n",
              "  color: var(--sklearn-color-background);\n",
              "  text-decoration: none;\n",
              "}\n",
              "\n",
              "#sk-container-id-3 a.estimator_doc_link.fitted:hover {\n",
              "  /* fitted */\n",
              "  background-color: var(--sklearn-color-fitted-level-3);\n",
              "}\n",
              "</style><div id=\"sk-container-id-3\" class=\"sk-top-container\"><div class=\"sk-text-repr-fallback\"><pre>RandomForestRegressor(max_depth=12, n_estimators=200, n_jobs=-1,\n",
              "                      random_state=42)</pre><b>In a Jupyter environment, please rerun this cell to show the HTML representation or trust the notebook. <br />On GitHub, the HTML representation is unable to render, please try loading this page with nbviewer.org.</b></div><div class=\"sk-container\" hidden><div class=\"sk-item\"><div class=\"sk-estimator fitted sk-toggleable\"><input class=\"sk-toggleable__control sk-hidden--visually\" id=\"sk-estimator-id-3\" type=\"checkbox\" checked><label for=\"sk-estimator-id-3\" class=\"sk-toggleable__label fitted sk-toggleable__label-arrow\"><div><div>RandomForestRegressor</div></div><div><a class=\"sk-estimator-doc-link fitted\" rel=\"noreferrer\" target=\"_blank\" href=\"https://scikit-learn.org/1.6/modules/generated/sklearn.ensemble.RandomForestRegressor.html\">?<span>Documentation for RandomForestRegressor</span></a><span class=\"sk-estimator-doc-link fitted\">i<span>Fitted</span></span></div></label><div class=\"sk-toggleable__content fitted\"><pre>RandomForestRegressor(max_depth=12, n_estimators=200, n_jobs=-1,\n",
              "                      random_state=42)</pre></div> </div></div></div></div>"
            ],
            "text/plain": [
              "RandomForestRegressor(max_depth=12, n_estimators=200, n_jobs=-1,\n",
              "                      random_state=42)"
            ]
          },
          "execution_count": 82,
          "metadata": {},
          "output_type": "execute_result"
        }
      ],
      "source": [
        "# Обучаем RF (быстрее — меньше деревьев, но глубже)\n",
        "rf = RandomForestRegressor(n_estimators=200, max_depth=12, random_state=42, n_jobs=-1)\n",
        "rf.fit(X, y)"
      ]
    },
    {
      "cell_type": "code",
      "execution_count": 83,
      "metadata": {
        "id": "4UgrNDpZuI6m"
      },
      "outputs": [
        {
          "name": "stdout",
          "output_type": "stream",
          "text": [
            "Top 20 features:\n",
            "          feature  mean_imp\n",
            "0    embed_pca_7  0.370756\n",
            "1    embed_pca_2  0.274023\n",
            "2    embed_pca_1  0.151682\n",
            "3         FP_650  0.131520\n",
            "4   embed_pca_12  0.113362\n",
            "5    embed_pca_6  0.087028\n",
            "6    embed_pca_5  0.066134\n",
            "7         FP_659  0.026896\n",
            "8    embed_pca_4  0.023775\n",
            "9         FP_561  0.023475\n",
            "10        FP_942  0.014005\n",
            "11        FP_366  0.010766\n",
            "12  embed_pca_65  0.010764\n",
            "13        FP_875  0.010639\n",
            "14   embed_pca_0  0.009168\n",
            "15        FP_356  0.008235\n",
            "16   embed_pca_8  0.007946\n",
            "17  embed_pca_68  0.006690\n",
            "18        FP_726  0.006380\n",
            "19        FP_171  0.006244\n"
          ]
        }
      ],
      "source": [
        "perm = permutation_importance(rf, X, y, n_repeats=10, random_state=42, n_jobs=-1)\n",
        "imp = pd.DataFrame({\"feature\":X.columns, \"mean_imp\":perm.importances_mean})\n",
        "imp = imp.sort_values(\"mean_imp\", ascending=False).reset_index(drop=True)\n",
        "print(\"Top 20 features:\\n\", imp.head(20))"
      ]
    },
    {
      "cell_type": "code",
      "execution_count": 84,
      "metadata": {
        "id": "qDK9V7VouOZv"
      },
      "outputs": [
        {
          "name": "stdout",
          "output_type": "stream",
          "text": [
            "Selecting 150/1151 features\n"
          ]
        }
      ],
      "source": [
        "selected = imp.loc[imp.mean_imp>0.001, \"feature\"].tolist()\n",
        "print(f\"Selecting {len(selected)}/{X.shape[1]} features\")"
      ]
    },
    {
      "cell_type": "code",
      "execution_count": 85,
      "metadata": {
        "id": "Y-mUYFECuRaV"
      },
      "outputs": [
        {
          "name": "stdout",
          "output_type": "stream",
          "text": [
            "Final shapes: (10898, 152) (2630, 151)\n"
          ]
        }
      ],
      "source": [
        "train_final = pd.concat([train_pre[[\"ID\",\"LogP\"]], X[selected]], axis=1)\n",
        "test_final  = pd.concat([test_pre [[\"ID\"]],        test_pre [selected]], axis=1)\n",
        "\n",
        "# Сохраняем финальные таблицы\n",
        "train_final.to_csv(f\"{OUTPUT}/train_final.csv\", index=False)\n",
        "test_final .to_csv(f\"{OUTPUT}/test_final.csv\" , index=False)\n",
        "print(\"Final shapes:\", train_final.shape, test_final.shape)"
      ]
    },
    {
      "cell_type": "markdown",
      "metadata": {},
      "source": [
        "### VII. Обучение CatBoost и оценка RMSE"
      ]
    },
    {
      "cell_type": "code",
      "execution_count": 86,
      "metadata": {},
      "outputs": [],
      "source": [
        "X_tr, X_val, y_tr, y_val = train_test_split(\n",
        "    train_final.drop(columns=[\"ID\",\"LogP\"]),\n",
        "    train_final[\"LogP\"],\n",
        "    test_size=0.2, random_state=42\n",
        ")"
      ]
    },
    {
      "cell_type": "code",
      "execution_count": 87,
      "metadata": {},
      "outputs": [
        {
          "data": {
            "text/plain": [
              "<catboost.core.CatBoostRegressor at 0x7c9cd1267d90>"
            ]
          },
          "execution_count": 87,
          "metadata": {},
          "output_type": "execute_result"
        }
      ],
      "source": [
        "model = CatBoostRegressor(\n",
        "    iterations=500,\n",
        "    learning_rate=0.05,\n",
        "    depth=6,\n",
        "    eval_metric=\"RMSE\",\n",
        "    random_seed=42,\n",
        "    verbose=False\n",
        ")\n",
        "model.fit(X_tr, y_tr, eval_set=(X_val, y_val), use_best_model=True)"
      ]
    },
    {
      "cell_type": "code",
      "execution_count": 88,
      "metadata": {},
      "outputs": [
        {
          "name": "stdout",
          "output_type": "stream",
          "text": [
            "Validation RMSE: 1.4136\n"
          ]
        }
      ],
      "source": [
        "y_pred = model.predict(X_val)\n",
        "rmse   = np.sqrt(mean_squared_error(y_val, y_pred))\n",
        "print(f\"Validation RMSE: {rmse:.4f}\")"
      ]
    }
  ],
  "metadata": {
    "colab": {
      "provenance": []
    },
    "kernelspec": {
      "display_name": "moler-env",
      "language": "python",
      "name": "python3"
    },
    "language_info": {
      "codemirror_mode": {
        "name": "ipython",
        "version": 3
      },
      "file_extension": ".py",
      "mimetype": "text/x-python",
      "name": "python",
      "nbconvert_exporter": "python",
      "pygments_lexer": "ipython3",
      "version": "3.10.8"
    },
    "widgets": {
      "application/vnd.jupyter.widget-state+json": {
        "31b8250e170e4eecb08e8d2a48b6de20": {
          "model_module": "@jupyter-widgets/controls",
          "model_module_version": "1.5.0",
          "model_name": "HTMLModel",
          "state": {
            "_dom_classes": [],
            "_model_module": "@jupyter-widgets/controls",
            "_model_module_version": "1.5.0",
            "_model_name": "HTMLModel",
            "_view_count": null,
            "_view_module": "@jupyter-widgets/controls",
            "_view_module_version": "1.5.0",
            "_view_name": "HTMLView",
            "description": "",
            "description_tooltip": null,
            "layout": "IPY_MODEL_7f8ef997dbe14a57977cce0a80a59273",
            "placeholder": "​",
            "style": "IPY_MODEL_d41fe783b22547e8a990bbc6d83bf474",
            "value": "100%"
          }
        },
        "4b72c218e6984b8ca06c7e2c613e8fbe": {
          "model_module": "@jupyter-widgets/base",
          "model_module_version": "1.2.0",
          "model_name": "LayoutModel",
          "state": {
            "_model_module": "@jupyter-widgets/base",
            "_model_module_version": "1.2.0",
            "_model_name": "LayoutModel",
            "_view_count": null,
            "_view_module": "@jupyter-widgets/base",
            "_view_module_version": "1.2.0",
            "_view_name": "LayoutView",
            "align_content": null,
            "align_items": null,
            "align_self": null,
            "border": null,
            "bottom": null,
            "display": null,
            "flex": null,
            "flex_flow": null,
            "grid_area": null,
            "grid_auto_columns": null,
            "grid_auto_flow": null,
            "grid_auto_rows": null,
            "grid_column": null,
            "grid_gap": null,
            "grid_row": null,
            "grid_template_areas": null,
            "grid_template_columns": null,
            "grid_template_rows": null,
            "height": null,
            "justify_content": null,
            "justify_items": null,
            "left": null,
            "margin": null,
            "max_height": null,
            "max_width": null,
            "min_height": null,
            "min_width": null,
            "object_fit": null,
            "object_position": null,
            "order": null,
            "overflow": null,
            "overflow_x": null,
            "overflow_y": null,
            "padding": null,
            "right": null,
            "top": null,
            "visibility": null,
            "width": null
          }
        },
        "4cdf663b6f144b09ae0d89db1d0619d6": {
          "model_module": "@jupyter-widgets/base",
          "model_module_version": "1.2.0",
          "model_name": "LayoutModel",
          "state": {
            "_model_module": "@jupyter-widgets/base",
            "_model_module_version": "1.2.0",
            "_model_name": "LayoutModel",
            "_view_count": null,
            "_view_module": "@jupyter-widgets/base",
            "_view_module_version": "1.2.0",
            "_view_name": "LayoutView",
            "align_content": null,
            "align_items": null,
            "align_self": null,
            "border": null,
            "bottom": null,
            "display": null,
            "flex": null,
            "flex_flow": null,
            "grid_area": null,
            "grid_auto_columns": null,
            "grid_auto_flow": null,
            "grid_auto_rows": null,
            "grid_column": null,
            "grid_gap": null,
            "grid_row": null,
            "grid_template_areas": null,
            "grid_template_columns": null,
            "grid_template_rows": null,
            "height": null,
            "justify_content": null,
            "justify_items": null,
            "left": null,
            "margin": null,
            "max_height": null,
            "max_width": null,
            "min_height": null,
            "min_width": null,
            "object_fit": null,
            "object_position": null,
            "order": null,
            "overflow": null,
            "overflow_x": null,
            "overflow_y": null,
            "padding": null,
            "right": null,
            "top": null,
            "visibility": null,
            "width": null
          }
        },
        "50c4abea37764f3dafdefc3aa083958e": {
          "model_module": "@jupyter-widgets/controls",
          "model_module_version": "1.5.0",
          "model_name": "DescriptionStyleModel",
          "state": {
            "_model_module": "@jupyter-widgets/controls",
            "_model_module_version": "1.5.0",
            "_model_name": "DescriptionStyleModel",
            "_view_count": null,
            "_view_module": "@jupyter-widgets/base",
            "_view_module_version": "1.2.0",
            "_view_name": "StyleView",
            "description_width": ""
          }
        },
        "593bde9ff34a4438b1257c72dadecc19": {
          "model_module": "@jupyter-widgets/controls",
          "model_module_version": "1.5.0",
          "model_name": "DescriptionStyleModel",
          "state": {
            "_model_module": "@jupyter-widgets/controls",
            "_model_module_version": "1.5.0",
            "_model_name": "DescriptionStyleModel",
            "_view_count": null,
            "_view_module": "@jupyter-widgets/base",
            "_view_module_version": "1.2.0",
            "_view_name": "StyleView",
            "description_width": ""
          }
        },
        "6078198b62ee4e6d9ba3af7edf62b78b": {
          "model_module": "@jupyter-widgets/controls",
          "model_module_version": "1.5.0",
          "model_name": "HTMLModel",
          "state": {
            "_dom_classes": [],
            "_model_module": "@jupyter-widgets/controls",
            "_model_module_version": "1.5.0",
            "_model_name": "HTMLModel",
            "_view_count": null,
            "_view_module": "@jupyter-widgets/controls",
            "_view_module_version": "1.5.0",
            "_view_name": "HTMLView",
            "description": "",
            "description_tooltip": null,
            "layout": "IPY_MODEL_89174d52a6d74ca79b4f93f4d4558c14",
            "placeholder": "​",
            "style": "IPY_MODEL_593bde9ff34a4438b1257c72dadecc19",
            "value": " 10898/10898 [00:03&lt;00:00, 2760.29it/s]"
          }
        },
        "67618d79353d49abb38ec473694aed61": {
          "model_module": "@jupyter-widgets/base",
          "model_module_version": "1.2.0",
          "model_name": "LayoutModel",
          "state": {
            "_model_module": "@jupyter-widgets/base",
            "_model_module_version": "1.2.0",
            "_model_name": "LayoutModel",
            "_view_count": null,
            "_view_module": "@jupyter-widgets/base",
            "_view_module_version": "1.2.0",
            "_view_name": "LayoutView",
            "align_content": null,
            "align_items": null,
            "align_self": null,
            "border": null,
            "bottom": null,
            "display": null,
            "flex": null,
            "flex_flow": null,
            "grid_area": null,
            "grid_auto_columns": null,
            "grid_auto_flow": null,
            "grid_auto_rows": null,
            "grid_column": null,
            "grid_gap": null,
            "grid_row": null,
            "grid_template_areas": null,
            "grid_template_columns": null,
            "grid_template_rows": null,
            "height": null,
            "justify_content": null,
            "justify_items": null,
            "left": null,
            "margin": null,
            "max_height": null,
            "max_width": null,
            "min_height": null,
            "min_width": null,
            "object_fit": null,
            "object_position": null,
            "order": null,
            "overflow": null,
            "overflow_x": null,
            "overflow_y": null,
            "padding": null,
            "right": null,
            "top": null,
            "visibility": null,
            "width": null
          }
        },
        "7f8ef997dbe14a57977cce0a80a59273": {
          "model_module": "@jupyter-widgets/base",
          "model_module_version": "1.2.0",
          "model_name": "LayoutModel",
          "state": {
            "_model_module": "@jupyter-widgets/base",
            "_model_module_version": "1.2.0",
            "_model_name": "LayoutModel",
            "_view_count": null,
            "_view_module": "@jupyter-widgets/base",
            "_view_module_version": "1.2.0",
            "_view_name": "LayoutView",
            "align_content": null,
            "align_items": null,
            "align_self": null,
            "border": null,
            "bottom": null,
            "display": null,
            "flex": null,
            "flex_flow": null,
            "grid_area": null,
            "grid_auto_columns": null,
            "grid_auto_flow": null,
            "grid_auto_rows": null,
            "grid_column": null,
            "grid_gap": null,
            "grid_row": null,
            "grid_template_areas": null,
            "grid_template_columns": null,
            "grid_template_rows": null,
            "height": null,
            "justify_content": null,
            "justify_items": null,
            "left": null,
            "margin": null,
            "max_height": null,
            "max_width": null,
            "min_height": null,
            "min_width": null,
            "object_fit": null,
            "object_position": null,
            "order": null,
            "overflow": null,
            "overflow_x": null,
            "overflow_y": null,
            "padding": null,
            "right": null,
            "top": null,
            "visibility": null,
            "width": null
          }
        },
        "80e627a51dbc4ba8abcc382c69657141": {
          "model_module": "@jupyter-widgets/controls",
          "model_module_version": "1.5.0",
          "model_name": "HTMLModel",
          "state": {
            "_dom_classes": [],
            "_model_module": "@jupyter-widgets/controls",
            "_model_module_version": "1.5.0",
            "_model_name": "HTMLModel",
            "_view_count": null,
            "_view_module": "@jupyter-widgets/controls",
            "_view_module_version": "1.5.0",
            "_view_name": "HTMLView",
            "description": "",
            "description_tooltip": null,
            "layout": "IPY_MODEL_67618d79353d49abb38ec473694aed61",
            "placeholder": "​",
            "style": "IPY_MODEL_50c4abea37764f3dafdefc3aa083958e",
            "value": " 2630/2630 [00:00&lt;00:00, 2766.35it/s]"
          }
        },
        "89174d52a6d74ca79b4f93f4d4558c14": {
          "model_module": "@jupyter-widgets/base",
          "model_module_version": "1.2.0",
          "model_name": "LayoutModel",
          "state": {
            "_model_module": "@jupyter-widgets/base",
            "_model_module_version": "1.2.0",
            "_model_name": "LayoutModel",
            "_view_count": null,
            "_view_module": "@jupyter-widgets/base",
            "_view_module_version": "1.2.0",
            "_view_name": "LayoutView",
            "align_content": null,
            "align_items": null,
            "align_self": null,
            "border": null,
            "bottom": null,
            "display": null,
            "flex": null,
            "flex_flow": null,
            "grid_area": null,
            "grid_auto_columns": null,
            "grid_auto_flow": null,
            "grid_auto_rows": null,
            "grid_column": null,
            "grid_gap": null,
            "grid_row": null,
            "grid_template_areas": null,
            "grid_template_columns": null,
            "grid_template_rows": null,
            "height": null,
            "justify_content": null,
            "justify_items": null,
            "left": null,
            "margin": null,
            "max_height": null,
            "max_width": null,
            "min_height": null,
            "min_width": null,
            "object_fit": null,
            "object_position": null,
            "order": null,
            "overflow": null,
            "overflow_x": null,
            "overflow_y": null,
            "padding": null,
            "right": null,
            "top": null,
            "visibility": null,
            "width": null
          }
        },
        "9588bda75bda4b9f9b899abfcdb2d715": {
          "model_module": "@jupyter-widgets/controls",
          "model_module_version": "1.5.0",
          "model_name": "HTMLModel",
          "state": {
            "_dom_classes": [],
            "_model_module": "@jupyter-widgets/controls",
            "_model_module_version": "1.5.0",
            "_model_name": "HTMLModel",
            "_view_count": null,
            "_view_module": "@jupyter-widgets/controls",
            "_view_module_version": "1.5.0",
            "_view_name": "HTMLView",
            "description": "",
            "description_tooltip": null,
            "layout": "IPY_MODEL_4b72c218e6984b8ca06c7e2c613e8fbe",
            "placeholder": "​",
            "style": "IPY_MODEL_a3021fc6a7284c02a580f5b5cf10fb22",
            "value": "100%"
          }
        },
        "a3021fc6a7284c02a580f5b5cf10fb22": {
          "model_module": "@jupyter-widgets/controls",
          "model_module_version": "1.5.0",
          "model_name": "DescriptionStyleModel",
          "state": {
            "_model_module": "@jupyter-widgets/controls",
            "_model_module_version": "1.5.0",
            "_model_name": "DescriptionStyleModel",
            "_view_count": null,
            "_view_module": "@jupyter-widgets/base",
            "_view_module_version": "1.2.0",
            "_view_name": "StyleView",
            "description_width": ""
          }
        },
        "b21bfd6abbaa424b985ce1ef2b306db6": {
          "model_module": "@jupyter-widgets/base",
          "model_module_version": "1.2.0",
          "model_name": "LayoutModel",
          "state": {
            "_model_module": "@jupyter-widgets/base",
            "_model_module_version": "1.2.0",
            "_model_name": "LayoutModel",
            "_view_count": null,
            "_view_module": "@jupyter-widgets/base",
            "_view_module_version": "1.2.0",
            "_view_name": "LayoutView",
            "align_content": null,
            "align_items": null,
            "align_self": null,
            "border": null,
            "bottom": null,
            "display": null,
            "flex": null,
            "flex_flow": null,
            "grid_area": null,
            "grid_auto_columns": null,
            "grid_auto_flow": null,
            "grid_auto_rows": null,
            "grid_column": null,
            "grid_gap": null,
            "grid_row": null,
            "grid_template_areas": null,
            "grid_template_columns": null,
            "grid_template_rows": null,
            "height": null,
            "justify_content": null,
            "justify_items": null,
            "left": null,
            "margin": null,
            "max_height": null,
            "max_width": null,
            "min_height": null,
            "min_width": null,
            "object_fit": null,
            "object_position": null,
            "order": null,
            "overflow": null,
            "overflow_x": null,
            "overflow_y": null,
            "padding": null,
            "right": null,
            "top": null,
            "visibility": null,
            "width": null
          }
        },
        "b8167a753c974bc29ff0226dc1311665": {
          "model_module": "@jupyter-widgets/controls",
          "model_module_version": "1.5.0",
          "model_name": "ProgressStyleModel",
          "state": {
            "_model_module": "@jupyter-widgets/controls",
            "_model_module_version": "1.5.0",
            "_model_name": "ProgressStyleModel",
            "_view_count": null,
            "_view_module": "@jupyter-widgets/base",
            "_view_module_version": "1.2.0",
            "_view_name": "StyleView",
            "bar_color": null,
            "description_width": ""
          }
        },
        "ccde8943ce2947b391a4f00d14c9830f": {
          "model_module": "@jupyter-widgets/controls",
          "model_module_version": "1.5.0",
          "model_name": "HBoxModel",
          "state": {
            "_dom_classes": [],
            "_model_module": "@jupyter-widgets/controls",
            "_model_module_version": "1.5.0",
            "_model_name": "HBoxModel",
            "_view_count": null,
            "_view_module": "@jupyter-widgets/controls",
            "_view_module_version": "1.5.0",
            "_view_name": "HBoxView",
            "box_style": "",
            "children": [
              "IPY_MODEL_31b8250e170e4eecb08e8d2a48b6de20",
              "IPY_MODEL_ff302d3c7b6b41bb928c4310aba0299e",
              "IPY_MODEL_80e627a51dbc4ba8abcc382c69657141"
            ],
            "layout": "IPY_MODEL_b21bfd6abbaa424b985ce1ef2b306db6"
          }
        },
        "d41fe783b22547e8a990bbc6d83bf474": {
          "model_module": "@jupyter-widgets/controls",
          "model_module_version": "1.5.0",
          "model_name": "DescriptionStyleModel",
          "state": {
            "_model_module": "@jupyter-widgets/controls",
            "_model_module_version": "1.5.0",
            "_model_name": "DescriptionStyleModel",
            "_view_count": null,
            "_view_module": "@jupyter-widgets/base",
            "_view_module_version": "1.2.0",
            "_view_name": "StyleView",
            "description_width": ""
          }
        },
        "f09d41985cc34596a641691a48a688a2": {
          "model_module": "@jupyter-widgets/controls",
          "model_module_version": "1.5.0",
          "model_name": "ProgressStyleModel",
          "state": {
            "_model_module": "@jupyter-widgets/controls",
            "_model_module_version": "1.5.0",
            "_model_name": "ProgressStyleModel",
            "_view_count": null,
            "_view_module": "@jupyter-widgets/base",
            "_view_module_version": "1.2.0",
            "_view_name": "StyleView",
            "bar_color": null,
            "description_width": ""
          }
        },
        "f1385880424c414c92a782f74257dfb5": {
          "model_module": "@jupyter-widgets/controls",
          "model_module_version": "1.5.0",
          "model_name": "HBoxModel",
          "state": {
            "_dom_classes": [],
            "_model_module": "@jupyter-widgets/controls",
            "_model_module_version": "1.5.0",
            "_model_name": "HBoxModel",
            "_view_count": null,
            "_view_module": "@jupyter-widgets/controls",
            "_view_module_version": "1.5.0",
            "_view_name": "HBoxView",
            "box_style": "",
            "children": [
              "IPY_MODEL_9588bda75bda4b9f9b899abfcdb2d715",
              "IPY_MODEL_fef41b38c9054a0eaf518cb6274b4f74",
              "IPY_MODEL_6078198b62ee4e6d9ba3af7edf62b78b"
            ],
            "layout": "IPY_MODEL_4cdf663b6f144b09ae0d89db1d0619d6"
          }
        },
        "f22dc7dcc953412fa3f5f7aae942a0a7": {
          "model_module": "@jupyter-widgets/base",
          "model_module_version": "1.2.0",
          "model_name": "LayoutModel",
          "state": {
            "_model_module": "@jupyter-widgets/base",
            "_model_module_version": "1.2.0",
            "_model_name": "LayoutModel",
            "_view_count": null,
            "_view_module": "@jupyter-widgets/base",
            "_view_module_version": "1.2.0",
            "_view_name": "LayoutView",
            "align_content": null,
            "align_items": null,
            "align_self": null,
            "border": null,
            "bottom": null,
            "display": null,
            "flex": null,
            "flex_flow": null,
            "grid_area": null,
            "grid_auto_columns": null,
            "grid_auto_flow": null,
            "grid_auto_rows": null,
            "grid_column": null,
            "grid_gap": null,
            "grid_row": null,
            "grid_template_areas": null,
            "grid_template_columns": null,
            "grid_template_rows": null,
            "height": null,
            "justify_content": null,
            "justify_items": null,
            "left": null,
            "margin": null,
            "max_height": null,
            "max_width": null,
            "min_height": null,
            "min_width": null,
            "object_fit": null,
            "object_position": null,
            "order": null,
            "overflow": null,
            "overflow_x": null,
            "overflow_y": null,
            "padding": null,
            "right": null,
            "top": null,
            "visibility": null,
            "width": null
          }
        },
        "fef41b38c9054a0eaf518cb6274b4f74": {
          "model_module": "@jupyter-widgets/controls",
          "model_module_version": "1.5.0",
          "model_name": "FloatProgressModel",
          "state": {
            "_dom_classes": [],
            "_model_module": "@jupyter-widgets/controls",
            "_model_module_version": "1.5.0",
            "_model_name": "FloatProgressModel",
            "_view_count": null,
            "_view_module": "@jupyter-widgets/controls",
            "_view_module_version": "1.5.0",
            "_view_name": "ProgressView",
            "bar_style": "success",
            "description": "",
            "description_tooltip": null,
            "layout": "IPY_MODEL_f22dc7dcc953412fa3f5f7aae942a0a7",
            "max": 10898,
            "min": 0,
            "orientation": "horizontal",
            "style": "IPY_MODEL_b8167a753c974bc29ff0226dc1311665",
            "value": 10898
          }
        },
        "ff04c4e0f8864c7eb6351528616cdbdd": {
          "model_module": "@jupyter-widgets/base",
          "model_module_version": "1.2.0",
          "model_name": "LayoutModel",
          "state": {
            "_model_module": "@jupyter-widgets/base",
            "_model_module_version": "1.2.0",
            "_model_name": "LayoutModel",
            "_view_count": null,
            "_view_module": "@jupyter-widgets/base",
            "_view_module_version": "1.2.0",
            "_view_name": "LayoutView",
            "align_content": null,
            "align_items": null,
            "align_self": null,
            "border": null,
            "bottom": null,
            "display": null,
            "flex": null,
            "flex_flow": null,
            "grid_area": null,
            "grid_auto_columns": null,
            "grid_auto_flow": null,
            "grid_auto_rows": null,
            "grid_column": null,
            "grid_gap": null,
            "grid_row": null,
            "grid_template_areas": null,
            "grid_template_columns": null,
            "grid_template_rows": null,
            "height": null,
            "justify_content": null,
            "justify_items": null,
            "left": null,
            "margin": null,
            "max_height": null,
            "max_width": null,
            "min_height": null,
            "min_width": null,
            "object_fit": null,
            "object_position": null,
            "order": null,
            "overflow": null,
            "overflow_x": null,
            "overflow_y": null,
            "padding": null,
            "right": null,
            "top": null,
            "visibility": null,
            "width": null
          }
        },
        "ff302d3c7b6b41bb928c4310aba0299e": {
          "model_module": "@jupyter-widgets/controls",
          "model_module_version": "1.5.0",
          "model_name": "FloatProgressModel",
          "state": {
            "_dom_classes": [],
            "_model_module": "@jupyter-widgets/controls",
            "_model_module_version": "1.5.0",
            "_model_name": "FloatProgressModel",
            "_view_count": null,
            "_view_module": "@jupyter-widgets/controls",
            "_view_module_version": "1.5.0",
            "_view_name": "ProgressView",
            "bar_style": "success",
            "description": "",
            "description_tooltip": null,
            "layout": "IPY_MODEL_ff04c4e0f8864c7eb6351528616cdbdd",
            "max": 2630,
            "min": 0,
            "orientation": "horizontal",
            "style": "IPY_MODEL_f09d41985cc34596a641691a48a688a2",
            "value": 2630
          }
        }
      }
    }
  },
  "nbformat": 4,
  "nbformat_minor": 0
}
