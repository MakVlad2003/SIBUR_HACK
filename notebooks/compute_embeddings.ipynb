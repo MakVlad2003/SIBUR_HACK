{
 "cells": [
  {
   "cell_type": "code",
   "execution_count": null,
   "id": "0",
   "metadata": {},
   "outputs": [],
   "source": [
    "import pandas as pd\n",
    "import numpy as np\n",
    "from molecule_generation import load_model_from_directory"
   ]
  },
  {
   "cell_type": "markdown",
   "id": "1",
   "metadata": {},
   "source": [
    "ШАГ 1. Загрузка данных"
   ]
  },
  {
   "cell_type": "code",
   "execution_count": null,
   "id": "2",
   "metadata": {},
   "outputs": [],
   "source": [
    "DATA_FILE = \"/home/oleg28/shteyn/vlad/SIBUR_HACK/data/train_data_all_descriptors.csv\""
   ]
  },
  {
   "cell_type": "code",
   "execution_count": null,
   "id": "3",
   "metadata": {},
   "outputs": [],
   "source": [
    "df = pd.read_csv(DATA_FILE)\n",
    "df"
   ]
  },
  {
   "cell_type": "code",
   "execution_count": null,
   "id": "4",
   "metadata": {},
   "outputs": [],
   "source": [
    "smiles_list = df[\"SMILES\"].tolist()\n",
    "print(f\"Количество SMILES для обработки: {len(smiles_list)}\")"
   ]
  },
  {
   "cell_type": "markdown",
   "id": "5",
   "metadata": {},
   "source": [
    "ШАГ 2. Загрузка обученной модели MoLeR и получение эмбеддингов"
   ]
  },
  {
   "cell_type": "code",
   "execution_count": null,
   "id": "6",
   "metadata": {},
   "outputs": [],
   "source": [
    "MODEL_DIR = \"/home/oleg28/shteyn/vlad/SIBUR_HACK/moler/molecule-generation/molecule_generation/model_checkpoint\""
   ]
  },
  {
   "cell_type": "code",
   "execution_count": null,
   "id": "7",
   "metadata": {},
   "outputs": [],
   "source": [
    "print(\"Загружаем модель из:\", MODEL_DIR)\n",
    "with load_model_from_directory(MODEL_DIR) as model:\n",
    "    # Вычисляем эмбеддинги для всех SMILES\n",
    "    embeddings = model.encode(smiles_list)\n",
    "    print(\"Получено эмбеддингов для SMILES:\", len(embeddings))\n",
    "    # Для примера выведем форму эмбеддинга для первых нескольких SMILES\n",
    "    for i, emb in enumerate(embeddings[:5]):\n",
    "        print(f\"Эмбеддинг для SMILES '{smiles_list[i]}' имеет форму {emb.shape}\")"
   ]
  },
  {
   "cell_type": "markdown",
   "id": "8",
   "metadata": {},
   "source": [
    "ШАГ 3. Создание DataFrame с эмбеддингами"
   ]
  },
  {
   "cell_type": "code",
   "execution_count": null,
   "id": "9",
   "metadata": {},
   "outputs": [],
   "source": [
    "df_with_embeddings = df.copy()\n",
    "df_with_embeddings = df_with_embeddings[[\"SMILES\", \"LogP\"]]\n",
    "df_with_embeddings[\"embedding\"] = embeddings\n",
    "\n",
    "df_with_embeddings"
   ]
  },
  {
   "cell_type": "code",
   "execution_count": null,
   "id": "10",
   "metadata": {},
   "outputs": [],
   "source": [
    "df_with_embeddings.to_pickle(\"df_with_embeddings.pkl\")\n",
    "print(\"DataFrame сохранён в df_with_embeddings.pkl\")"
   ]
  }
 ],
 "metadata": {
  "kernelspec": {
   "display_name": "moler-env",
   "language": "python",
   "name": "python3"
  },
  "language_info": {
   "codemirror_mode": {
    "name": "ipython",
    "version": 3
   },
   "file_extension": ".py",
   "mimetype": "text/x-python",
   "name": "python",
   "nbconvert_exporter": "python",
   "pygments_lexer": "ipython3",
   "version": "3.10.8"
  }
 },
 "nbformat": 4,
 "nbformat_minor": 5
}
